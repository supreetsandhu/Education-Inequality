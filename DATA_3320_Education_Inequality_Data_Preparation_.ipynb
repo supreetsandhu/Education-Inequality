{
  "nbformat": 4,
  "nbformat_minor": 0,
  "metadata": {
    "colab": {
      "provenance": [],
      "toc_visible": true,
      "include_colab_link": true
    },
    "kernelspec": {
      "name": "python3",
      "display_name": "Python 3"
    },
    "language_info": {
      "name": "python"
    }
  },
  "cells": [
    {
      "cell_type": "markdown",
      "metadata": {
        "id": "view-in-github",
        "colab_type": "text"
      },
      "source": [
        "<a href=\"https://colab.research.google.com/github/supreetsandhu/Education-Inequality/blob/main/DATA_3320_Education_Inequality_Data_Preparation_.ipynb\" target=\"_parent\"><img src=\"https://colab.research.google.com/assets/colab-badge.svg\" alt=\"Open In Colab\"/></a>"
      ]
    },
    {
      "cell_type": "markdown",
      "source": [
        "## Introduction"
      ],
      "metadata": {
        "id": "cOSJyABoshOK"
      }
    },
    {
      "cell_type": "markdown",
      "source": [
        "This project will look at differenet socioeconomic factors and locations of different schools. We will be using two different datasets to anaylsis how the peformance of different schools and how students at the school peform and how that relates to various socioeconomic factors. here are two data sources for this project. The first is EdGap_data.xlxs which was obtained from the Github repository for DATA 3320 in the education folder (https://github.com/brian-fischer/DATA-3320/tree/main/education). This excel document contains information about schools, SAT Scores, marriage status and the income statu. The other is a CSV that was obtained from this dropbox: https://www.dropbox.com/s/lkl5nvcdmwyoban/ccd_sch_029_1617_w_1a_11212017.csv?dl=0. The data in this CSV file contains information about different schools, location of those schools and their peformance in school such as if they recieved offers for different schools. One data set is from the EdGap data set from EdGap.org. This data set includes data about ACT or SAT scores for schools and several socioeconomic characteristics, it is also from the year 2016. The other data set is information such as location and other factors about the school from the National Center for Education Statistic.Provide a brief introduction to the purpose of this notebook."
      ],
      "metadata": {
        "id": "26hIPGtBsi7g"
      }
    },
    {
      "cell_type": "markdown",
      "source": [
        "## Import libraries"
      ],
      "metadata": {
        "id": "dwvtDMCYlPus"
      }
    },
    {
      "cell_type": "markdown",
      "source": [
        "We will import the libaries needed for this project."
      ],
      "metadata": {
        "id": "_u7OGVT2xfc1"
      }
    },
    {
      "cell_type": "code",
      "execution_count": 1,
      "metadata": {
        "id": "DQZAzYri_ru5"
      },
      "outputs": [],
      "source": [
        "import pandas as pd\n",
        "import numpy as np\n",
        "import matplotlib.pyplot as plt\n",
        "import seaborn as sns\n",
        "sns.set_theme(style='whitegrid')\n",
        "import missingno as msno\n",
        "\n",
        "# Train-test splits\n",
        "from sklearn.model_selection import train_test_split\n",
        "\n",
        "# Model preprocessing\n",
        "from sklearn.preprocessing import StandardScaler\n",
        "\n",
        "# Modeling\n",
        "import statsmodels.formula.api as smf\n",
        "import statsmodels.api as sm\n",
        "\n",
        "# Model metrics and analysis\n",
        "from sklearn.metrics import r2_score, mean_squared_error, mean_absolute_error\n",
        "\n",
        "# Imputation\n",
        "from sklearn.experimental import enable_iterative_imputer\n",
        "from sklearn.impute import SimpleImputer, IterativeImputer, KNNImputer"
      ]
    },
    {
      "cell_type": "markdown",
      "source": [
        "## The data"
      ],
      "metadata": {
        "id": "PQfz_To0dhYX"
      }
    },
    {
      "cell_type": "markdown",
      "source": [
        "This project utilizes two data sets. The primary data set is the EdGap data set from [EdGap.org](https://www.edgap.org/#5/37.875/-96.987). This data set from 2016 includes information about average ACT or SAT scores for schools and several socioeconomic characteristics of the school district. The secondary data set is basic information about each school from the [National Center for Education Statistics](https://nces.ed.gov/ccd/pubschuniv.asp).\n",
        "\n",
        "\n",
        "\n"
      ],
      "metadata": {
        "id": "fDJ80Omny91y"
      }
    },
    {
      "cell_type": "markdown",
      "source": [
        "### EdGap data"
      ],
      "metadata": {
        "id": "HUbdlXjMchi-"
      }
    },
    {
      "cell_type": "markdown",
      "source": [
        "All socioeconomic data (household income, unemployment, adult educational attainment, and family structure) are from the Census Bureau's American Community Survey. \n",
        "\n",
        "[EdGap.org](https://www.edgap.org/#5/37.875/-96.987) report that ACT and SAT score data is from each state's department of education or some other public data release. The nature of the other public data release is not known.\n",
        "\n",
        "The quality of the census data and the department of education data can be assumed to be reasonably high. \n",
        "\n",
        "[EdGap.org](https://www.edgap.org/#5/37.875/-96.987) do not indicate that they processed the data in any way. The data were assembled by the [EdGap.org](https://www.edgap.org/#5/37.875/-96.987) team, so there is always the possibility for human error. Given the public nature of the data, we would be able to consult the original data sources to check the quality of the data if we had any questions."
      ],
      "metadata": {
        "id": "JhRr1Z9Bcis6"
      }
    },
    {
      "cell_type": "markdown",
      "source": [
        "### School information data"
      ],
      "metadata": {
        "id": "6ahKtePYcbEZ"
      }
    },
    {
      "cell_type": "markdown",
      "source": [
        "The school information data is from the [National Center for Education Statistics](https://nces.ed.gov/ccd/pubschuniv.asp). This data set consists of basic identifying information about schools and can be assumed to be of reasonably high quality. As for the EdGap.org data, the school information data is public, so we would be able to consult the original data sources to check the quality of the data if we had any questions.\n"
      ],
      "metadata": {
        "id": "y7K1km9Tcdy3"
      }
    },
    {
      "cell_type": "markdown",
      "source": [
        "## Load the data"
      ],
      "metadata": {
        "id": "5qccuG8vy7Ja"
      }
    },
    {
      "cell_type": "markdown",
      "source": [
        "We will load the EdGap data set."
      ],
      "metadata": {
        "id": "7eodKzMZl5h9"
      }
    },
    {
      "cell_type": "code",
      "source": [
        "edgap = pd.read_excel('https://raw.githubusercontent.com/brian-fischer/DATA-3320/main/education/EdGap_data.xlsx')"
      ],
      "metadata": {
        "id": "TpRcvNoalbnG",
        "colab": {
          "base_uri": "https://localhost:8080/"
        },
        "outputId": "cd723e24-eb20-4b34-dfa0-4a55087f9b82"
      },
      "execution_count": 2,
      "outputs": [
        {
          "output_type": "stream",
          "name": "stderr",
          "text": [
            "/usr/local/lib/python3.9/dist-packages/openpyxl/worksheet/_reader.py:312: UserWarning: Unknown extension is not supported and will be removed\n",
            "  warn(msg)\n"
          ]
        }
      ]
    },
    {
      "cell_type": "markdown",
      "source": [
        "We will load the school information data."
      ],
      "metadata": {
        "id": "yQ_5N98addPO"
      }
    },
    {
      "cell_type": "code",
      "source": [
        "#!wget https://www.dropbox.com/s/dz2dqbvwctsde6f/ccd_sch_029_1617_w_1a_11212017.csv?dl=0 \n",
        "!wget https://www.dropbox.com/s/lkl5nvcdmwyoban/ccd_sch_029_1617_w_1a_11212017.csv?dl=0"
      ],
      "metadata": {
        "colab": {
          "base_uri": "https://localhost:8080/"
        },
        "id": "4koKUuw4doCI",
        "outputId": "2499e934-982e-4dd8-90ca-ec78036a9829"
      },
      "execution_count": 3,
      "outputs": [
        {
          "output_type": "stream",
          "name": "stdout",
          "text": [
            "--2023-04-23 15:40:27--  https://www.dropbox.com/s/lkl5nvcdmwyoban/ccd_sch_029_1617_w_1a_11212017.csv?dl=0\n",
            "Resolving www.dropbox.com (www.dropbox.com)... 162.125.80.18, 2620:100:6035:18::a27d:5512\n",
            "Connecting to www.dropbox.com (www.dropbox.com)|162.125.80.18|:443... connected.\n",
            "HTTP request sent, awaiting response... 302 Found\n",
            "Location: /s/raw/lkl5nvcdmwyoban/ccd_sch_029_1617_w_1a_11212017.csv [following]\n",
            "--2023-04-23 15:40:27--  https://www.dropbox.com/s/raw/lkl5nvcdmwyoban/ccd_sch_029_1617_w_1a_11212017.csv\n",
            "Reusing existing connection to www.dropbox.com:443.\n",
            "HTTP request sent, awaiting response... 302 Found\n",
            "Location: https://uc80e402456a37776f93aeb0440d.dl.dropboxusercontent.com/cd/0/inline/B6tebZjzcCpFeJoDxWNXztUzXluTgLpQ4Dbsck8BS99CTVVQWLPze_eoross9zN-ZZscv2N9eQnKzInwhQqlAHndLeaea3A1ILs1NPKnCmX4gjzh_X4Iz-LBUINEVspHZWCohOrNQ8P6WY9ygFgUuWbuxKhXhXYVRk7ylLbAOms75w/file# [following]\n",
            "--2023-04-23 15:40:28--  https://uc80e402456a37776f93aeb0440d.dl.dropboxusercontent.com/cd/0/inline/B6tebZjzcCpFeJoDxWNXztUzXluTgLpQ4Dbsck8BS99CTVVQWLPze_eoross9zN-ZZscv2N9eQnKzInwhQqlAHndLeaea3A1ILs1NPKnCmX4gjzh_X4Iz-LBUINEVspHZWCohOrNQ8P6WY9ygFgUuWbuxKhXhXYVRk7ylLbAOms75w/file\n",
            "Resolving uc80e402456a37776f93aeb0440d.dl.dropboxusercontent.com (uc80e402456a37776f93aeb0440d.dl.dropboxusercontent.com)... 162.125.80.15, 2620:100:6031:15::a27d:510f\n",
            "Connecting to uc80e402456a37776f93aeb0440d.dl.dropboxusercontent.com (uc80e402456a37776f93aeb0440d.dl.dropboxusercontent.com)|162.125.80.15|:443... connected.\n",
            "HTTP request sent, awaiting response... 200 OK\n",
            "Length: 40477083 (39M) [text/plain]\n",
            "Saving to: ‘ccd_sch_029_1617_w_1a_11212017.csv?dl=0’\n",
            "\n",
            "ccd_sch_029_1617_w_ 100%[===================>]  38.60M  20.7MB/s    in 1.9s    \n",
            "\n",
            "2023-04-23 15:40:31 (20.7 MB/s) - ‘ccd_sch_029_1617_w_1a_11212017.csv?dl=0’ saved [40477083/40477083]\n",
            "\n"
          ]
        }
      ]
    },
    {
      "cell_type": "code",
      "source": [
        "school_info = pd.read_csv('ccd_sch_029_1617_w_1a_11212017.csv?dl=0', encoding= 'unicode_escape')"
      ],
      "metadata": {
        "colab": {
          "base_uri": "https://localhost:8080/"
        },
        "id": "baD6nLnsdrmj",
        "outputId": "81dce756-22ca-4d43-95db-4433ff877b9d"
      },
      "execution_count": 4,
      "outputs": [
        {
          "output_type": "stream",
          "name": "stderr",
          "text": [
            "<ipython-input-4-54e0747c4ccf>:1: DtypeWarning: Columns (6,9,14,15,18,19,21,22,25,26,29,31,35,39,41,42) have mixed types. Specify dtype option on import or set low_memory=False.\n",
            "  school_info = pd.read_csv('ccd_sch_029_1617_w_1a_11212017.csv?dl=0', encoding= 'unicode_escape')\n"
          ]
        }
      ]
    },
    {
      "cell_type": "markdown",
      "source": [
        "## Explore the contents of the data sets"
      ],
      "metadata": {
        "id": "OHVSgzXFd4nf"
      }
    },
    {
      "cell_type": "markdown",
      "source": [
        "First we will examine the education data set. This data set includes information about socioecnomic factors for different schools."
      ],
      "metadata": {
        "id": "gYxy4Sy6d9_j"
      }
    },
    {
      "cell_type": "code",
      "source": [
        "edgap.head()"
      ],
      "metadata": {
        "colab": {
          "base_uri": "https://localhost:8080/",
          "height": 284
        },
        "id": "wOhmyXJhd9NF",
        "outputId": "6a7105df-54ab-4a97-8047-fa649739d8fd"
      },
      "execution_count": 5,
      "outputs": [
        {
          "output_type": "execute_result",
          "data": {
            "text/plain": [
              "   NCESSCH School ID  CT Unemployment Rate  CT Pct Adults with College Degree  \\\n",
              "0       100001600143              0.117962                           0.445283   \n",
              "1       100008000024              0.063984                           0.662765   \n",
              "2       100008000225              0.056460                           0.701864   \n",
              "3       100017000029              0.044739                           0.692062   \n",
              "4       100018000040              0.077014                           0.640060   \n",
              "\n",
              "   CT Pct Childre In Married Couple Family  CT Median Household Income  \\\n",
              "0                                 0.346495                     42820.0   \n",
              "1                                 0.767619                     89320.0   \n",
              "2                                 0.713090                     84140.0   \n",
              "3                                 0.641283                     56500.0   \n",
              "4                                 0.834402                     54015.0   \n",
              "\n",
              "   School ACT average (or equivalent if SAT score)  \\\n",
              "0                                        20.433455   \n",
              "1                                        19.498168   \n",
              "2                                        19.554335   \n",
              "3                                        17.737485   \n",
              "4                                        18.245421   \n",
              "\n",
              "   School Pct Free and Reduced Lunch  \n",
              "0                           0.066901  \n",
              "1                           0.112412  \n",
              "2                           0.096816  \n",
              "3                           0.296960  \n",
              "4                           0.262641  "
            ],
            "text/html": [
              "\n",
              "  <div id=\"df-f8e8fbe9-bc03-4a19-b66c-2f077fb01f70\">\n",
              "    <div class=\"colab-df-container\">\n",
              "      <div>\n",
              "<style scoped>\n",
              "    .dataframe tbody tr th:only-of-type {\n",
              "        vertical-align: middle;\n",
              "    }\n",
              "\n",
              "    .dataframe tbody tr th {\n",
              "        vertical-align: top;\n",
              "    }\n",
              "\n",
              "    .dataframe thead th {\n",
              "        text-align: right;\n",
              "    }\n",
              "</style>\n",
              "<table border=\"1\" class=\"dataframe\">\n",
              "  <thead>\n",
              "    <tr style=\"text-align: right;\">\n",
              "      <th></th>\n",
              "      <th>NCESSCH School ID</th>\n",
              "      <th>CT Unemployment Rate</th>\n",
              "      <th>CT Pct Adults with College Degree</th>\n",
              "      <th>CT Pct Childre In Married Couple Family</th>\n",
              "      <th>CT Median Household Income</th>\n",
              "      <th>School ACT average (or equivalent if SAT score)</th>\n",
              "      <th>School Pct Free and Reduced Lunch</th>\n",
              "    </tr>\n",
              "  </thead>\n",
              "  <tbody>\n",
              "    <tr>\n",
              "      <th>0</th>\n",
              "      <td>100001600143</td>\n",
              "      <td>0.117962</td>\n",
              "      <td>0.445283</td>\n",
              "      <td>0.346495</td>\n",
              "      <td>42820.0</td>\n",
              "      <td>20.433455</td>\n",
              "      <td>0.066901</td>\n",
              "    </tr>\n",
              "    <tr>\n",
              "      <th>1</th>\n",
              "      <td>100008000024</td>\n",
              "      <td>0.063984</td>\n",
              "      <td>0.662765</td>\n",
              "      <td>0.767619</td>\n",
              "      <td>89320.0</td>\n",
              "      <td>19.498168</td>\n",
              "      <td>0.112412</td>\n",
              "    </tr>\n",
              "    <tr>\n",
              "      <th>2</th>\n",
              "      <td>100008000225</td>\n",
              "      <td>0.056460</td>\n",
              "      <td>0.701864</td>\n",
              "      <td>0.713090</td>\n",
              "      <td>84140.0</td>\n",
              "      <td>19.554335</td>\n",
              "      <td>0.096816</td>\n",
              "    </tr>\n",
              "    <tr>\n",
              "      <th>3</th>\n",
              "      <td>100017000029</td>\n",
              "      <td>0.044739</td>\n",
              "      <td>0.692062</td>\n",
              "      <td>0.641283</td>\n",
              "      <td>56500.0</td>\n",
              "      <td>17.737485</td>\n",
              "      <td>0.296960</td>\n",
              "    </tr>\n",
              "    <tr>\n",
              "      <th>4</th>\n",
              "      <td>100018000040</td>\n",
              "      <td>0.077014</td>\n",
              "      <td>0.640060</td>\n",
              "      <td>0.834402</td>\n",
              "      <td>54015.0</td>\n",
              "      <td>18.245421</td>\n",
              "      <td>0.262641</td>\n",
              "    </tr>\n",
              "  </tbody>\n",
              "</table>\n",
              "</div>\n",
              "      <button class=\"colab-df-convert\" onclick=\"convertToInteractive('df-f8e8fbe9-bc03-4a19-b66c-2f077fb01f70')\"\n",
              "              title=\"Convert this dataframe to an interactive table.\"\n",
              "              style=\"display:none;\">\n",
              "        \n",
              "  <svg xmlns=\"http://www.w3.org/2000/svg\" height=\"24px\"viewBox=\"0 0 24 24\"\n",
              "       width=\"24px\">\n",
              "    <path d=\"M0 0h24v24H0V0z\" fill=\"none\"/>\n",
              "    <path d=\"M18.56 5.44l.94 2.06.94-2.06 2.06-.94-2.06-.94-.94-2.06-.94 2.06-2.06.94zm-11 1L8.5 8.5l.94-2.06 2.06-.94-2.06-.94L8.5 2.5l-.94 2.06-2.06.94zm10 10l.94 2.06.94-2.06 2.06-.94-2.06-.94-.94-2.06-.94 2.06-2.06.94z\"/><path d=\"M17.41 7.96l-1.37-1.37c-.4-.4-.92-.59-1.43-.59-.52 0-1.04.2-1.43.59L10.3 9.45l-7.72 7.72c-.78.78-.78 2.05 0 2.83L4 21.41c.39.39.9.59 1.41.59.51 0 1.02-.2 1.41-.59l7.78-7.78 2.81-2.81c.8-.78.8-2.07 0-2.86zM5.41 20L4 18.59l7.72-7.72 1.47 1.35L5.41 20z\"/>\n",
              "  </svg>\n",
              "      </button>\n",
              "      \n",
              "  <style>\n",
              "    .colab-df-container {\n",
              "      display:flex;\n",
              "      flex-wrap:wrap;\n",
              "      gap: 12px;\n",
              "    }\n",
              "\n",
              "    .colab-df-convert {\n",
              "      background-color: #E8F0FE;\n",
              "      border: none;\n",
              "      border-radius: 50%;\n",
              "      cursor: pointer;\n",
              "      display: none;\n",
              "      fill: #1967D2;\n",
              "      height: 32px;\n",
              "      padding: 0 0 0 0;\n",
              "      width: 32px;\n",
              "    }\n",
              "\n",
              "    .colab-df-convert:hover {\n",
              "      background-color: #E2EBFA;\n",
              "      box-shadow: 0px 1px 2px rgba(60, 64, 67, 0.3), 0px 1px 3px 1px rgba(60, 64, 67, 0.15);\n",
              "      fill: #174EA6;\n",
              "    }\n",
              "\n",
              "    [theme=dark] .colab-df-convert {\n",
              "      background-color: #3B4455;\n",
              "      fill: #D2E3FC;\n",
              "    }\n",
              "\n",
              "    [theme=dark] .colab-df-convert:hover {\n",
              "      background-color: #434B5C;\n",
              "      box-shadow: 0px 1px 3px 1px rgba(0, 0, 0, 0.15);\n",
              "      filter: drop-shadow(0px 1px 2px rgba(0, 0, 0, 0.3));\n",
              "      fill: #FFFFFF;\n",
              "    }\n",
              "  </style>\n",
              "\n",
              "      <script>\n",
              "        const buttonEl =\n",
              "          document.querySelector('#df-f8e8fbe9-bc03-4a19-b66c-2f077fb01f70 button.colab-df-convert');\n",
              "        buttonEl.style.display =\n",
              "          google.colab.kernel.accessAllowed ? 'block' : 'none';\n",
              "\n",
              "        async function convertToInteractive(key) {\n",
              "          const element = document.querySelector('#df-f8e8fbe9-bc03-4a19-b66c-2f077fb01f70');\n",
              "          const dataTable =\n",
              "            await google.colab.kernel.invokeFunction('convertToInteractive',\n",
              "                                                     [key], {});\n",
              "          if (!dataTable) return;\n",
              "\n",
              "          const docLinkHtml = 'Like what you see? Visit the ' +\n",
              "            '<a target=\"_blank\" href=https://colab.research.google.com/notebooks/data_table.ipynb>data table notebook</a>'\n",
              "            + ' to learn more about interactive tables.';\n",
              "          element.innerHTML = '';\n",
              "          dataTable['output_type'] = 'display_data';\n",
              "          await google.colab.output.renderOutput(dataTable, element);\n",
              "          const docLink = document.createElement('div');\n",
              "          docLink.innerHTML = docLinkHtml;\n",
              "          element.appendChild(docLink);\n",
              "        }\n",
              "      </script>\n",
              "    </div>\n",
              "  </div>\n",
              "  "
            ]
          },
          "metadata": {},
          "execution_count": 5
        }
      ]
    },
    {
      "cell_type": "markdown",
      "source": [
        "We will now look at the school_info data set. This is a dataset that inclides information about the school such as location and the level of the school (eg. high school)"
      ],
      "metadata": {
        "id": "t9ooASMwx2t7"
      }
    },
    {
      "cell_type": "code",
      "source": [
        "school_info.head()"
      ],
      "metadata": {
        "colab": {
          "base_uri": "https://localhost:8080/",
          "height": 525
        },
        "id": "8-HRWZdPeCAI",
        "outputId": "7ad58158-2144-4f1d-b7a1-328e3b8d3b91"
      },
      "execution_count": 6,
      "outputs": [
        {
          "output_type": "execute_result",
          "data": {
            "text/plain": [
              "  SCHOOL_YEAR  FIPST STATENAME  ST                          SCH_NAME  \\\n",
              "0   2016-2017      1   ALABAMA  AL  Sequoyah Sch - Chalkville Campus   \n",
              "1   2016-2017      1   ALABAMA  AL                             Camps   \n",
              "2   2016-2017      1   ALABAMA  AL                           Det Ctr   \n",
              "3   2016-2017      1   ALABAMA  AL     Wallace Sch - Mt Meigs Campus   \n",
              "4   2016-2017      1   ALABAMA  AL         McNeel Sch - Vacca Campus   \n",
              "\n",
              "                 LEA_NAME STATE_AGENCY_NO  UNION ST_LEAID   LEAID  ...  \\\n",
              "0  Alabama Youth Services               1    NaN   AL-210  100002  ...   \n",
              "1  Alabama Youth Services               1    NaN   AL-210  100002  ...   \n",
              "2  Alabama Youth Services               1    NaN   AL-210  100002  ...   \n",
              "3  Alabama Youth Services               1    NaN   AL-210  100002  ...   \n",
              "4  Alabama Youth Services               1    NaN   AL-210  100002  ...   \n",
              "\n",
              "  G_10_OFFERED  G_11_OFFERED  G_12_OFFERED G_13_OFFERED G_UG_OFFERED  \\\n",
              "0          Yes           Yes           Yes           No           No   \n",
              "1          Yes           Yes           Yes           No           No   \n",
              "2          Yes           Yes           Yes           No           No   \n",
              "3          Yes           Yes           Yes           No           No   \n",
              "4          Yes           Yes           Yes           No           No   \n",
              "\n",
              "  G_AE_OFFERED GSLO GSHI LEVEL    IGOFFERED  \n",
              "0           No   07   12  High  As reported  \n",
              "1           No   07   12  High  As reported  \n",
              "2           No   07   12  High  As reported  \n",
              "3           No   07   12  High  As reported  \n",
              "4           No   07   12  High  As reported  \n",
              "\n",
              "[5 rows x 65 columns]"
            ],
            "text/html": [
              "\n",
              "  <div id=\"df-e8c806f1-bf92-4c7d-be7f-c1f2876297a9\">\n",
              "    <div class=\"colab-df-container\">\n",
              "      <div>\n",
              "<style scoped>\n",
              "    .dataframe tbody tr th:only-of-type {\n",
              "        vertical-align: middle;\n",
              "    }\n",
              "\n",
              "    .dataframe tbody tr th {\n",
              "        vertical-align: top;\n",
              "    }\n",
              "\n",
              "    .dataframe thead th {\n",
              "        text-align: right;\n",
              "    }\n",
              "</style>\n",
              "<table border=\"1\" class=\"dataframe\">\n",
              "  <thead>\n",
              "    <tr style=\"text-align: right;\">\n",
              "      <th></th>\n",
              "      <th>SCHOOL_YEAR</th>\n",
              "      <th>FIPST</th>\n",
              "      <th>STATENAME</th>\n",
              "      <th>ST</th>\n",
              "      <th>SCH_NAME</th>\n",
              "      <th>LEA_NAME</th>\n",
              "      <th>STATE_AGENCY_NO</th>\n",
              "      <th>UNION</th>\n",
              "      <th>ST_LEAID</th>\n",
              "      <th>LEAID</th>\n",
              "      <th>...</th>\n",
              "      <th>G_10_OFFERED</th>\n",
              "      <th>G_11_OFFERED</th>\n",
              "      <th>G_12_OFFERED</th>\n",
              "      <th>G_13_OFFERED</th>\n",
              "      <th>G_UG_OFFERED</th>\n",
              "      <th>G_AE_OFFERED</th>\n",
              "      <th>GSLO</th>\n",
              "      <th>GSHI</th>\n",
              "      <th>LEVEL</th>\n",
              "      <th>IGOFFERED</th>\n",
              "    </tr>\n",
              "  </thead>\n",
              "  <tbody>\n",
              "    <tr>\n",
              "      <th>0</th>\n",
              "      <td>2016-2017</td>\n",
              "      <td>1</td>\n",
              "      <td>ALABAMA</td>\n",
              "      <td>AL</td>\n",
              "      <td>Sequoyah Sch - Chalkville Campus</td>\n",
              "      <td>Alabama Youth Services</td>\n",
              "      <td>1</td>\n",
              "      <td>NaN</td>\n",
              "      <td>AL-210</td>\n",
              "      <td>100002</td>\n",
              "      <td>...</td>\n",
              "      <td>Yes</td>\n",
              "      <td>Yes</td>\n",
              "      <td>Yes</td>\n",
              "      <td>No</td>\n",
              "      <td>No</td>\n",
              "      <td>No</td>\n",
              "      <td>07</td>\n",
              "      <td>12</td>\n",
              "      <td>High</td>\n",
              "      <td>As reported</td>\n",
              "    </tr>\n",
              "    <tr>\n",
              "      <th>1</th>\n",
              "      <td>2016-2017</td>\n",
              "      <td>1</td>\n",
              "      <td>ALABAMA</td>\n",
              "      <td>AL</td>\n",
              "      <td>Camps</td>\n",
              "      <td>Alabama Youth Services</td>\n",
              "      <td>1</td>\n",
              "      <td>NaN</td>\n",
              "      <td>AL-210</td>\n",
              "      <td>100002</td>\n",
              "      <td>...</td>\n",
              "      <td>Yes</td>\n",
              "      <td>Yes</td>\n",
              "      <td>Yes</td>\n",
              "      <td>No</td>\n",
              "      <td>No</td>\n",
              "      <td>No</td>\n",
              "      <td>07</td>\n",
              "      <td>12</td>\n",
              "      <td>High</td>\n",
              "      <td>As reported</td>\n",
              "    </tr>\n",
              "    <tr>\n",
              "      <th>2</th>\n",
              "      <td>2016-2017</td>\n",
              "      <td>1</td>\n",
              "      <td>ALABAMA</td>\n",
              "      <td>AL</td>\n",
              "      <td>Det Ctr</td>\n",
              "      <td>Alabama Youth Services</td>\n",
              "      <td>1</td>\n",
              "      <td>NaN</td>\n",
              "      <td>AL-210</td>\n",
              "      <td>100002</td>\n",
              "      <td>...</td>\n",
              "      <td>Yes</td>\n",
              "      <td>Yes</td>\n",
              "      <td>Yes</td>\n",
              "      <td>No</td>\n",
              "      <td>No</td>\n",
              "      <td>No</td>\n",
              "      <td>07</td>\n",
              "      <td>12</td>\n",
              "      <td>High</td>\n",
              "      <td>As reported</td>\n",
              "    </tr>\n",
              "    <tr>\n",
              "      <th>3</th>\n",
              "      <td>2016-2017</td>\n",
              "      <td>1</td>\n",
              "      <td>ALABAMA</td>\n",
              "      <td>AL</td>\n",
              "      <td>Wallace Sch - Mt Meigs Campus</td>\n",
              "      <td>Alabama Youth Services</td>\n",
              "      <td>1</td>\n",
              "      <td>NaN</td>\n",
              "      <td>AL-210</td>\n",
              "      <td>100002</td>\n",
              "      <td>...</td>\n",
              "      <td>Yes</td>\n",
              "      <td>Yes</td>\n",
              "      <td>Yes</td>\n",
              "      <td>No</td>\n",
              "      <td>No</td>\n",
              "      <td>No</td>\n",
              "      <td>07</td>\n",
              "      <td>12</td>\n",
              "      <td>High</td>\n",
              "      <td>As reported</td>\n",
              "    </tr>\n",
              "    <tr>\n",
              "      <th>4</th>\n",
              "      <td>2016-2017</td>\n",
              "      <td>1</td>\n",
              "      <td>ALABAMA</td>\n",
              "      <td>AL</td>\n",
              "      <td>McNeel Sch - Vacca Campus</td>\n",
              "      <td>Alabama Youth Services</td>\n",
              "      <td>1</td>\n",
              "      <td>NaN</td>\n",
              "      <td>AL-210</td>\n",
              "      <td>100002</td>\n",
              "      <td>...</td>\n",
              "      <td>Yes</td>\n",
              "      <td>Yes</td>\n",
              "      <td>Yes</td>\n",
              "      <td>No</td>\n",
              "      <td>No</td>\n",
              "      <td>No</td>\n",
              "      <td>07</td>\n",
              "      <td>12</td>\n",
              "      <td>High</td>\n",
              "      <td>As reported</td>\n",
              "    </tr>\n",
              "  </tbody>\n",
              "</table>\n",
              "<p>5 rows × 65 columns</p>\n",
              "</div>\n",
              "      <button class=\"colab-df-convert\" onclick=\"convertToInteractive('df-e8c806f1-bf92-4c7d-be7f-c1f2876297a9')\"\n",
              "              title=\"Convert this dataframe to an interactive table.\"\n",
              "              style=\"display:none;\">\n",
              "        \n",
              "  <svg xmlns=\"http://www.w3.org/2000/svg\" height=\"24px\"viewBox=\"0 0 24 24\"\n",
              "       width=\"24px\">\n",
              "    <path d=\"M0 0h24v24H0V0z\" fill=\"none\"/>\n",
              "    <path d=\"M18.56 5.44l.94 2.06.94-2.06 2.06-.94-2.06-.94-.94-2.06-.94 2.06-2.06.94zm-11 1L8.5 8.5l.94-2.06 2.06-.94-2.06-.94L8.5 2.5l-.94 2.06-2.06.94zm10 10l.94 2.06.94-2.06 2.06-.94-2.06-.94-.94-2.06-.94 2.06-2.06.94z\"/><path d=\"M17.41 7.96l-1.37-1.37c-.4-.4-.92-.59-1.43-.59-.52 0-1.04.2-1.43.59L10.3 9.45l-7.72 7.72c-.78.78-.78 2.05 0 2.83L4 21.41c.39.39.9.59 1.41.59.51 0 1.02-.2 1.41-.59l7.78-7.78 2.81-2.81c.8-.78.8-2.07 0-2.86zM5.41 20L4 18.59l7.72-7.72 1.47 1.35L5.41 20z\"/>\n",
              "  </svg>\n",
              "      </button>\n",
              "      \n",
              "  <style>\n",
              "    .colab-df-container {\n",
              "      display:flex;\n",
              "      flex-wrap:wrap;\n",
              "      gap: 12px;\n",
              "    }\n",
              "\n",
              "    .colab-df-convert {\n",
              "      background-color: #E8F0FE;\n",
              "      border: none;\n",
              "      border-radius: 50%;\n",
              "      cursor: pointer;\n",
              "      display: none;\n",
              "      fill: #1967D2;\n",
              "      height: 32px;\n",
              "      padding: 0 0 0 0;\n",
              "      width: 32px;\n",
              "    }\n",
              "\n",
              "    .colab-df-convert:hover {\n",
              "      background-color: #E2EBFA;\n",
              "      box-shadow: 0px 1px 2px rgba(60, 64, 67, 0.3), 0px 1px 3px 1px rgba(60, 64, 67, 0.15);\n",
              "      fill: #174EA6;\n",
              "    }\n",
              "\n",
              "    [theme=dark] .colab-df-convert {\n",
              "      background-color: #3B4455;\n",
              "      fill: #D2E3FC;\n",
              "    }\n",
              "\n",
              "    [theme=dark] .colab-df-convert:hover {\n",
              "      background-color: #434B5C;\n",
              "      box-shadow: 0px 1px 3px 1px rgba(0, 0, 0, 0.15);\n",
              "      filter: drop-shadow(0px 1px 2px rgba(0, 0, 0, 0.3));\n",
              "      fill: #FFFFFF;\n",
              "    }\n",
              "  </style>\n",
              "\n",
              "      <script>\n",
              "        const buttonEl =\n",
              "          document.querySelector('#df-e8c806f1-bf92-4c7d-be7f-c1f2876297a9 button.colab-df-convert');\n",
              "        buttonEl.style.display =\n",
              "          google.colab.kernel.accessAllowed ? 'block' : 'none';\n",
              "\n",
              "        async function convertToInteractive(key) {\n",
              "          const element = document.querySelector('#df-e8c806f1-bf92-4c7d-be7f-c1f2876297a9');\n",
              "          const dataTable =\n",
              "            await google.colab.kernel.invokeFunction('convertToInteractive',\n",
              "                                                     [key], {});\n",
              "          if (!dataTable) return;\n",
              "\n",
              "          const docLinkHtml = 'Like what you see? Visit the ' +\n",
              "            '<a target=\"_blank\" href=https://colab.research.google.com/notebooks/data_table.ipynb>data table notebook</a>'\n",
              "            + ' to learn more about interactive tables.';\n",
              "          element.innerHTML = '';\n",
              "          dataTable['output_type'] = 'display_data';\n",
              "          await google.colab.output.renderOutput(dataTable, element);\n",
              "          const docLink = document.createElement('div');\n",
              "          docLink.innerHTML = docLinkHtml;\n",
              "          element.appendChild(docLink);\n",
              "        }\n",
              "      </script>\n",
              "    </div>\n",
              "  </div>\n",
              "  "
            ]
          },
          "metadata": {},
          "execution_count": 6
        }
      ]
    },
    {
      "cell_type": "markdown",
      "source": [
        "We will use the .info() to explore the types of data. "
      ],
      "metadata": {
        "id": "e0IEtgl8eRkv"
      }
    },
    {
      "cell_type": "code",
      "source": [
        "edgap.info()"
      ],
      "metadata": {
        "colab": {
          "base_uri": "https://localhost:8080/"
        },
        "id": "S-dHnf19eSSf",
        "outputId": "fea8ca90-fdf9-40b1-add6-ef5a1f50392e"
      },
      "execution_count": 7,
      "outputs": [
        {
          "output_type": "stream",
          "name": "stdout",
          "text": [
            "<class 'pandas.core.frame.DataFrame'>\n",
            "RangeIndex: 7986 entries, 0 to 7985\n",
            "Data columns (total 7 columns):\n",
            " #   Column                                           Non-Null Count  Dtype  \n",
            "---  ------                                           --------------  -----  \n",
            " 0   NCESSCH School ID                                7986 non-null   int64  \n",
            " 1   CT Unemployment Rate                             7972 non-null   float64\n",
            " 2   CT Pct Adults with College Degree                7973 non-null   float64\n",
            " 3   CT Pct Childre In Married Couple Family          7961 non-null   float64\n",
            " 4   CT Median Household Income                       7966 non-null   float64\n",
            " 5   School ACT average (or equivalent if SAT score)  7986 non-null   float64\n",
            " 6   School Pct Free and Reduced Lunch                7986 non-null   float64\n",
            "dtypes: float64(6), int64(1)\n",
            "memory usage: 436.9 KB\n"
          ]
        }
      ]
    },
    {
      "cell_type": "markdown",
      "source": [
        "we can tell that there are some missing observations because the count of values are different for each one, but not many. Note that this does not address school data that is missing from the data set."
      ],
      "metadata": {
        "id": "W3nh1e1seXu8"
      }
    },
    {
      "cell_type": "markdown",
      "source": [
        "We will now check to see if there are any missing values for the school_info data set."
      ],
      "metadata": {
        "id": "8OMV-oLFyN7a"
      }
    },
    {
      "cell_type": "code",
      "source": [
        "school_info.info()"
      ],
      "metadata": {
        "id": "KGLg7p04exIM",
        "colab": {
          "base_uri": "https://localhost:8080/"
        },
        "outputId": "a3382f22-5104-4800-9e94-d88564157c1e"
      },
      "execution_count": 8,
      "outputs": [
        {
          "output_type": "stream",
          "name": "stdout",
          "text": [
            "<class 'pandas.core.frame.DataFrame'>\n",
            "RangeIndex: 102183 entries, 0 to 102182\n",
            "Data columns (total 65 columns):\n",
            " #   Column               Non-Null Count   Dtype  \n",
            "---  ------               --------------   -----  \n",
            " 0   SCHOOL_YEAR          102183 non-null  object \n",
            " 1   FIPST                102183 non-null  int64  \n",
            " 2   STATENAME            102183 non-null  object \n",
            " 3   ST                   102183 non-null  object \n",
            " 4   SCH_NAME             102183 non-null  object \n",
            " 5   LEA_NAME             102183 non-null  object \n",
            " 6   STATE_AGENCY_NO      102183 non-null  object \n",
            " 7   UNION                2533 non-null    float64\n",
            " 8   ST_LEAID             102183 non-null  object \n",
            " 9   LEAID                102183 non-null  object \n",
            " 10  ST_SCHID             102183 non-null  object \n",
            " 11  NCESSCH              102181 non-null  float64\n",
            " 12  SCHID                102181 non-null  float64\n",
            " 13  MSTREET1             102181 non-null  object \n",
            " 14  MSTREET2             1825 non-null    object \n",
            " 15  MSTREET3             28 non-null      object \n",
            " 16  MCITY                102183 non-null  object \n",
            " 17  MSTATE               102183 non-null  object \n",
            " 18  MZIP                 102183 non-null  object \n",
            " 19  MZIP4                60419 non-null   object \n",
            " 20  LSTREET1             102183 non-null  object \n",
            " 21  LSTREET2             582 non-null     object \n",
            " 22  LSTREET3             13 non-null      object \n",
            " 23  LCITY                102183 non-null  object \n",
            " 24  LSTATE               102183 non-null  object \n",
            " 25  LZIP                 102183 non-null  object \n",
            " 26  LZIP4                59145 non-null   object \n",
            " 27  PHONE                102183 non-null  object \n",
            " 28  WEBSITE              51983 non-null   object \n",
            " 29  SY_STATUS            102181 non-null  object \n",
            " 30  SY_STATUS_TEXT       102181 non-null  object \n",
            " 31  UPDATED_STATUS       102181 non-null  object \n",
            " 32  UPDATED_STATUS_TEXT  102181 non-null  object \n",
            " 33  EFFECTIVE_DATE       102181 non-null  object \n",
            " 34  SCH_TYPE_TEXT        102181 non-null  object \n",
            " 35  SCH_TYPE             102181 non-null  object \n",
            " 36  RECON_STATUS         102181 non-null  object \n",
            " 37  OUT_OF_STATE_FLAG    102179 non-null  object \n",
            " 38  CHARTER_TEXT         102179 non-null  object \n",
            " 39  CHARTAUTH1           6687 non-null    object \n",
            " 40  CHARTAUTHN1          6687 non-null    object \n",
            " 41  CHARTAUTH2           116 non-null     object \n",
            " 42  CHARTAUTHN2          116 non-null     object \n",
            " 43  NOGRADES             102179 non-null  object \n",
            " 44  G_PK_OFFERED         102179 non-null  object \n",
            " 45  G_KG_OFFERED         102179 non-null  object \n",
            " 46  G_1_OFFERED          102179 non-null  object \n",
            " 47  G_2_OFFERED          102179 non-null  object \n",
            " 48  G_3_OFFERED          102179 non-null  object \n",
            " 49  G_4_OFFERED          102179 non-null  object \n",
            " 50  G_5_OFFERED          102179 non-null  object \n",
            " 51  G_6_OFFERED          102179 non-null  object \n",
            " 52  G_7_OFFERED          102179 non-null  object \n",
            " 53  G_8_OFFERED          102179 non-null  object \n",
            " 54  G_9_OFFERED          102179 non-null  object \n",
            " 55  G_10_OFFERED         102179 non-null  object \n",
            " 56  G_11_OFFERED         102179 non-null  object \n",
            " 57  G_12_OFFERED         102179 non-null  object \n",
            " 58  G_13_OFFERED         102179 non-null  object \n",
            " 59  G_UG_OFFERED         102179 non-null  object \n",
            " 60  G_AE_OFFERED         102179 non-null  object \n",
            " 61  GSLO                 102179 non-null  object \n",
            " 62  GSHI                 102179 non-null  object \n",
            " 63  LEVEL                102179 non-null  object \n",
            " 64  IGOFFERED            102179 non-null  object \n",
            "dtypes: float64(3), int64(1), object(61)\n",
            "memory usage: 50.7+ MB\n"
          ]
        }
      ]
    },
    {
      "cell_type": "markdown",
      "source": [
        "This data set is much bigger than the EdGap set, so the EdGap does not include all the same schools that the school_info data set has.\n",
        "\n",
        "There are many null values in the school information data set, however for our anaylsis we do not need all the columns in the school_info data set."
      ],
      "metadata": {
        "id": "rMurRVFofA8Z"
      }
    },
    {
      "cell_type": "markdown",
      "source": [
        "## Convert data types, if necessary"
      ],
      "metadata": {
        "id": "kTG4W94-irIA"
      }
    },
    {
      "cell_type": "markdown",
      "source": [
        "The end goal is to combine the two data sets. So we will want to convert any data to be the same type. The NCESSCH  value in both data sets are of different types. So we will cast them to be the same value type.\n",
        "\n",
        "We will cast the `NCESSCH` column in the `school_info` DataFrame as an `int64`. We first need to drop rows where `NCESSCH` is a `NaN` value. "
      ],
      "metadata": {
        "id": "czg-VgjJfeQr"
      }
    },
    {
      "cell_type": "markdown",
      "source": [
        "We will drop where the shool_info NCESSCH value is a NaN."
      ],
      "metadata": {
        "id": "FhEzDCfWzQpE"
      }
    },
    {
      "cell_type": "code",
      "source": [
        "school_info = school_info[school_info['NCESSCH'].isna() == False]"
      ],
      "metadata": {
        "id": "1j_Om5yXhVFg"
      },
      "execution_count": 9,
      "outputs": []
    },
    {
      "cell_type": "markdown",
      "source": [
        "we will cast the type of NCESSCH to be a type of int64 in the school_info data set."
      ],
      "metadata": {
        "id": "YO4fUrCCzVXT"
      }
    },
    {
      "cell_type": "code",
      "source": [
        "school_info['NCESSCH'] = school_info['NCESSCH'].astype('int64')"
      ],
      "metadata": {
        "id": "s2laQSaihHr6"
      },
      "execution_count": 10,
      "outputs": []
    },
    {
      "cell_type": "markdown",
      "source": [
        "## Are the data suitable for answering the question?"
      ],
      "metadata": {
        "id": "35pKxSfb2zIs"
      }
    },
    {
      "cell_type": "markdown",
      "source": [
        "We are interested in whether there is a relationship between the ACT score and the socioeconomic variables. We can make scatter plots to get a sense for the data. We are wanting to see if there is a correlation between these factors so that the data can answer our questions."
      ],
      "metadata": {
        "id": "n3YmAmnehrkw"
      }
    },
    {
      "cell_type": "markdown",
      "source": [
        "We will make two plots with socioeconomic factor and the average act. The first plot will be a scatterplot between the rate of unenmployment and the average act score."
      ],
      "metadata": {
        "id": "OtGVAg7riIT0"
      }
    },
    {
      "cell_type": "code",
      "source": [
        "sns.scatterplot(data = df, x =\"average_act\", y = \"rate_unemployment\")"
      ],
      "metadata": {
        "colab": {
          "base_uri": "https://localhost:8080/",
          "height": 476
        },
        "id": "4qXrF_8n4Fn3",
        "outputId": "b1e19c7d-404f-4d4b-df13-563e38c3fea6"
      },
      "execution_count": 59,
      "outputs": [
        {
          "output_type": "execute_result",
          "data": {
            "text/plain": [
              "<Axes: xlabel='average_act', ylabel='rate_unemployment'>"
            ]
          },
          "metadata": {},
          "execution_count": 59
        },
        {
          "output_type": "display_data",
          "data": {
            "text/plain": [
              "<Figure size 640x480 with 1 Axes>"
            ],
            "image/png": "[encoded data removed]"
          },
          "metadata": {}
        }
      ]
    },
    {
      "cell_type": "markdown",
      "source": [
        "We can tell that there is a correlation between the two factors. This graph also tells us that there are some outliers that we are going to have to deal with.\n",
        "\n",
        "\n",
        "We will make a scatterplot between the average act and the median income, this will help us determine if the data is sutiable for answering our question of if the data is suitable to use to see the connectin between the act score and socioeconmic factors."
      ],
      "metadata": {
        "id": "o8zTdnix4-aJ"
      }
    },
    {
      "cell_type": "code",
      "source": [
        "sns.scatterplot(data = df, x =\"average_act\", y = \"median_income\")"
      ],
      "metadata": {
        "colab": {
          "base_uri": "https://localhost:8080/",
          "height": 476
        },
        "id": "h-65qscgz_uE",
        "outputId": "4d18ccb3-bc60-4cbe-a878-297d659732de"
      },
      "execution_count": 58,
      "outputs": [
        {
          "output_type": "execute_result",
          "data": {
            "text/plain": [
              "<Axes: xlabel='average_act', ylabel='median_income'>"
            ]
          },
          "metadata": {},
          "execution_count": 58
        },
        {
          "output_type": "display_data",
          "data": {
            "text/plain": [
              "<Figure size 640x480 with 1 Axes>"
            ],
            "image/png": "[encoded data removed]"
          },
          "metadata": {}
        }
      ]
    },
    {
      "cell_type": "markdown",
      "source": [
        "There  is a correlation between the median income and the average act. There appears to be a relationship between the socioeconomic variables and the average ACT score. We can also see some out-of-range ACT values that will need to be dealt with."
      ],
      "metadata": {
        "id": "dNRqBONyi1q7"
      }
    },
    {
      "cell_type": "markdown",
      "source": [
        "## Select relevant subsets of the data"
      ],
      "metadata": {
        "id": "HbsdH56_ijIS"
      }
    },
    {
      "cell_type": "markdown",
      "source": [
        "We will only select the data that we need. The school information data set contains a lot of information. We only need the year, school identity, location, and school type information.\n",
        "\n",
        "So we are going to keep these columns `SCHOOL_YEAR`, `NCESSCH`, `MSTATE`, `MZIP`, `SCH_TYPE_TEXT`, `LEVEL`"
      ],
      "metadata": {
        "id": "RCnA-Nw55Edg"
      }
    },
    {
      "cell_type": "code",
      "source": [
        "school_info = school_info[['SCHOOL_YEAR', 'NCESSCH', 'MSTATE', 'MZIP', 'SCH_TYPE_TEXT', 'LEVEL']]"
      ],
      "metadata": {
        "id": "BbKrJBPL5kxR"
      },
      "execution_count": 12,
      "outputs": []
    },
    {
      "cell_type": "code",
      "source": [
        "school_info.head()"
      ],
      "metadata": {
        "colab": {
          "base_uri": "https://localhost:8080/",
          "height": 206
        },
        "id": "H4Xrdb4651qO",
        "outputId": "a010f879-ae11-448d-ffb4-ec359ba22fff"
      },
      "execution_count": 13,
      "outputs": [
        {
          "output_type": "execute_result",
          "data": {
            "text/plain": [
              "  SCHOOL_YEAR      NCESSCH MSTATE   MZIP       SCH_TYPE_TEXT LEVEL\n",
              "0   2016-2017  10000200277     AL  35220  Alternative School  High\n",
              "1   2016-2017  10000201667     AL  36057  Alternative School  High\n",
              "2   2016-2017  10000201670     AL  36057  Alternative School  High\n",
              "3   2016-2017  10000201705     AL  36057  Alternative School  High\n",
              "4   2016-2017  10000201706     AL  35206  Alternative School  High"
            ],
            "text/html": [
              "\n",
              "  <div id=\"df-d42a0d36-ec5c-4594-a8d7-8fbb1290c10f\">\n",
              "    <div class=\"colab-df-container\">\n",
              "      <div>\n",
              "<style scoped>\n",
              "    .dataframe tbody tr th:only-of-type {\n",
              "        vertical-align: middle;\n",
              "    }\n",
              "\n",
              "    .dataframe tbody tr th {\n",
              "        vertical-align: top;\n",
              "    }\n",
              "\n",
              "    .dataframe thead th {\n",
              "        text-align: right;\n",
              "    }\n",
              "</style>\n",
              "<table border=\"1\" class=\"dataframe\">\n",
              "  <thead>\n",
              "    <tr style=\"text-align: right;\">\n",
              "      <th></th>\n",
              "      <th>SCHOOL_YEAR</th>\n",
              "      <th>NCESSCH</th>\n",
              "      <th>MSTATE</th>\n",
              "      <th>MZIP</th>\n",
              "      <th>SCH_TYPE_TEXT</th>\n",
              "      <th>LEVEL</th>\n",
              "    </tr>\n",
              "  </thead>\n",
              "  <tbody>\n",
              "    <tr>\n",
              "      <th>0</th>\n",
              "      <td>2016-2017</td>\n",
              "      <td>10000200277</td>\n",
              "      <td>AL</td>\n",
              "      <td>35220</td>\n",
              "      <td>Alternative School</td>\n",
              "      <td>High</td>\n",
              "    </tr>\n",
              "    <tr>\n",
              "      <th>1</th>\n",
              "      <td>2016-2017</td>\n",
              "      <td>10000201667</td>\n",
              "      <td>AL</td>\n",
              "      <td>36057</td>\n",
              "      <td>Alternative School</td>\n",
              "      <td>High</td>\n",
              "    </tr>\n",
              "    <tr>\n",
              "      <th>2</th>\n",
              "      <td>2016-2017</td>\n",
              "      <td>10000201670</td>\n",
              "      <td>AL</td>\n",
              "      <td>36057</td>\n",
              "      <td>Alternative School</td>\n",
              "      <td>High</td>\n",
              "    </tr>\n",
              "    <tr>\n",
              "      <th>3</th>\n",
              "      <td>2016-2017</td>\n",
              "      <td>10000201705</td>\n",
              "      <td>AL</td>\n",
              "      <td>36057</td>\n",
              "      <td>Alternative School</td>\n",
              "      <td>High</td>\n",
              "    </tr>\n",
              "    <tr>\n",
              "      <th>4</th>\n",
              "      <td>2016-2017</td>\n",
              "      <td>10000201706</td>\n",
              "      <td>AL</td>\n",
              "      <td>35206</td>\n",
              "      <td>Alternative School</td>\n",
              "      <td>High</td>\n",
              "    </tr>\n",
              "  </tbody>\n",
              "</table>\n",
              "</div>\n",
              "      <button class=\"colab-df-convert\" onclick=\"convertToInteractive('df-d42a0d36-ec5c-4594-a8d7-8fbb1290c10f')\"\n",
              "              title=\"Convert this dataframe to an interactive table.\"\n",
              "              style=\"display:none;\">\n",
              "        \n",
              "  <svg xmlns=\"http://www.w3.org/2000/svg\" height=\"24px\"viewBox=\"0 0 24 24\"\n",
              "       width=\"24px\">\n",
              "    <path d=\"M0 0h24v24H0V0z\" fill=\"none\"/>\n",
              "    <path d=\"M18.56 5.44l.94 2.06.94-2.06 2.06-.94-2.06-.94-.94-2.06-.94 2.06-2.06.94zm-11 1L8.5 8.5l.94-2.06 2.06-.94-2.06-.94L8.5 2.5l-.94 2.06-2.06.94zm10 10l.94 2.06.94-2.06 2.06-.94-2.06-.94-.94-2.06-.94 2.06-2.06.94z\"/><path d=\"M17.41 7.96l-1.37-1.37c-.4-.4-.92-.59-1.43-.59-.52 0-1.04.2-1.43.59L10.3 9.45l-7.72 7.72c-.78.78-.78 2.05 0 2.83L4 21.41c.39.39.9.59 1.41.59.51 0 1.02-.2 1.41-.59l7.78-7.78 2.81-2.81c.8-.78.8-2.07 0-2.86zM5.41 20L4 18.59l7.72-7.72 1.47 1.35L5.41 20z\"/>\n",
              "  </svg>\n",
              "      </button>\n",
              "      \n",
              "  <style>\n",
              "    .colab-df-container {\n",
              "      display:flex;\n",
              "      flex-wrap:wrap;\n",
              "      gap: 12px;\n",
              "    }\n",
              "\n",
              "    .colab-df-convert {\n",
              "      background-color: #E8F0FE;\n",
              "      border: none;\n",
              "      border-radius: 50%;\n",
              "      cursor: pointer;\n",
              "      display: none;\n",
              "      fill: #1967D2;\n",
              "      height: 32px;\n",
              "      padding: 0 0 0 0;\n",
              "      width: 32px;\n",
              "    }\n",
              "\n",
              "    .colab-df-convert:hover {\n",
              "      background-color: #E2EBFA;\n",
              "      box-shadow: 0px 1px 2px rgba(60, 64, 67, 0.3), 0px 1px 3px 1px rgba(60, 64, 67, 0.15);\n",
              "      fill: #174EA6;\n",
              "    }\n",
              "\n",
              "    [theme=dark] .colab-df-convert {\n",
              "      background-color: #3B4455;\n",
              "      fill: #D2E3FC;\n",
              "    }\n",
              "\n",
              "    [theme=dark] .colab-df-convert:hover {\n",
              "      background-color: #434B5C;\n",
              "      box-shadow: 0px 1px 3px 1px rgba(0, 0, 0, 0.15);\n",
              "      filter: drop-shadow(0px 1px 2px rgba(0, 0, 0, 0.3));\n",
              "      fill: #FFFFFF;\n",
              "    }\n",
              "  </style>\n",
              "\n",
              "      <script>\n",
              "        const buttonEl =\n",
              "          document.querySelector('#df-d42a0d36-ec5c-4594-a8d7-8fbb1290c10f button.colab-df-convert');\n",
              "        buttonEl.style.display =\n",
              "          google.colab.kernel.accessAllowed ? 'block' : 'none';\n",
              "\n",
              "        async function convertToInteractive(key) {\n",
              "          const element = document.querySelector('#df-d42a0d36-ec5c-4594-a8d7-8fbb1290c10f');\n",
              "          const dataTable =\n",
              "            await google.colab.kernel.invokeFunction('convertToInteractive',\n",
              "                                                     [key], {});\n",
              "          if (!dataTable) return;\n",
              "\n",
              "          const docLinkHtml = 'Like what you see? Visit the ' +\n",
              "            '<a target=\"_blank\" href=https://colab.research.google.com/notebooks/data_table.ipynb>data table notebook</a>'\n",
              "            + ' to learn more about interactive tables.';\n",
              "          element.innerHTML = '';\n",
              "          dataTable['output_type'] = 'display_data';\n",
              "          await google.colab.output.renderOutput(dataTable, element);\n",
              "          const docLink = document.createElement('div');\n",
              "          docLink.innerHTML = docLinkHtml;\n",
              "          element.appendChild(docLink);\n",
              "        }\n",
              "      </script>\n",
              "    </div>\n",
              "  </div>\n",
              "  "
            ]
          },
          "metadata": {},
          "execution_count": 13
        }
      ]
    },
    {
      "cell_type": "markdown",
      "source": [
        "The school_info now only has the data that we need."
      ],
      "metadata": {
        "id": "bSc4y1h86NgV"
      }
    },
    {
      "cell_type": "markdown",
      "source": [
        "## Rename columns"
      ],
      "metadata": {
        "id": "3wvK6vF-85aX"
      }
    },
    {
      "cell_type": "markdown",
      "source": [
        "We are going to rename the columns of data so that it is easier for us to understand and work with."
      ],
      "metadata": {
        "id": "o43je2-F6Shl"
      }
    },
    {
      "cell_type": "code",
      "source": [
        "edgap = edgap.rename(columns={\"NCESSCH School ID\":\"id\", \n",
        "              \"CT Pct Adults with College Degree\":\"percent_college\",        \n",
        "              \"CT Unemployment Rate\":\"rate_unemployment\", \n",
        "              \"CT Pct Childre In Married Couple Family\":\"percent_married\",\n",
        "              \"CT Median Household Income\":\"median_income\",\n",
        "              \"School ACT average (or equivalent if SAT score)\":\"average_act\",\n",
        "              \"School Pct Free and Reduced Lunch\":\"percent_lunch\"})"
      ],
      "metadata": {
        "id": "OXpbbI-v9QSY"
      },
      "execution_count": 14,
      "outputs": []
    },
    {
      "cell_type": "code",
      "source": [
        "school_info = school_info.rename(columns={'SCHOOL_YEAR':'year', \n",
        "                                          'NCESSCH':'id', \n",
        "                                          'MSTATE':'state',\n",
        "                                          'MZIP':'zip_code',\n",
        "                                          'SCH_TYPE_TEXT':'school_type',\n",
        "                                          'LEVEL':'school_level'})"
      ],
      "metadata": {
        "id": "bOQiTzcE9YH9"
      },
      "execution_count": 15,
      "outputs": []
    },
    {
      "cell_type": "markdown",
      "source": [
        "## Join data frames "
      ],
      "metadata": {
        "id": "BkCnFJdVryvv"
      }
    },
    {
      "cell_type": "markdown",
      "source": [
        "We will join the two data sets on their id."
      ],
      "metadata": {
        "id": "AaHn2LF4y36K"
      }
    },
    {
      "cell_type": "code",
      "source": [
        "df = edgap.merge(school_info, how = 'left', on='id')"
      ],
      "metadata": {
        "id": "NFrORAYPrVex"
      },
      "execution_count": 18,
      "outputs": []
    },
    {
      "cell_type": "markdown",
      "source": [
        "The data sets are now combined into one data set called df."
      ],
      "metadata": {
        "id": "omfnP8lIy7gf"
      }
    },
    {
      "cell_type": "markdown",
      "source": [
        "## Quality Control: Check for out-of-range values"
      ],
      "metadata": {
        "id": "IGOUNeyO6JLL"
      }
    },
    {
      "cell_type": "markdown",
      "source": [
        "We will want to check what the max and min values are for the dataset and replace any values that may seem out of bounds."
      ],
      "metadata": {
        "id": "kzQyctBL6aj8"
      }
    },
    {
      "cell_type": "markdown",
      "source": [
        "We will check the min and max for each of the columns in dataset to check if there are any out of bounds data."
      ],
      "metadata": {
        "id": "fZyZ_S_f6qIq"
      }
    },
    {
      "cell_type": "code",
      "source": [
        "df.agg(['min', 'max']).round(2)"
      ],
      "metadata": {
        "colab": {
          "base_uri": "https://localhost:8080/",
          "height": 168
        },
        "id": "ZemXt5Hh6Xqh",
        "outputId": "8839645d-437e-4434-a5b9-6b8094e62b49"
      },
      "execution_count": 22,
      "outputs": [
        {
          "output_type": "stream",
          "name": "stderr",
          "text": [
            "<ipython-input-22-39a2038683d4>:1: FutureWarning: ['year', 'state', 'zip_code', 'school_type', 'school_level'] did not aggregate successfully. If any error is raised this will raise in a future version of pandas. Drop these columns/ops to avoid this warning.\n",
            "  df.agg(['min', 'max']).round(2)\n"
          ]
        },
        {
          "output_type": "execute_result",
          "data": {
            "text/plain": [
              "               id  rate_unemployment  percent_college  percent_married  \\\n",
              "min  100001600143               0.00             0.09              0.0   \n",
              "max  560583000335               0.59             1.00              1.0   \n",
              "\n",
              "     median_income  average_act  percent_lunch  \n",
              "min         3589.0        -3.07          -0.05  \n",
              "max       226181.0        32.36           1.00  "
            ],
            "text/html": [
              "\n",
              "  <div id=\"df-6b690875-f5a4-48d2-9c1b-1f76ec3105f4\">\n",
              "    <div class=\"colab-df-container\">\n",
              "      <div>\n",
              "<style scoped>\n",
              "    .dataframe tbody tr th:only-of-type {\n",
              "        vertical-align: middle;\n",
              "    }\n",
              "\n",
              "    .dataframe tbody tr th {\n",
              "        vertical-align: top;\n",
              "    }\n",
              "\n",
              "    .dataframe thead th {\n",
              "        text-align: right;\n",
              "    }\n",
              "</style>\n",
              "<table border=\"1\" class=\"dataframe\">\n",
              "  <thead>\n",
              "    <tr style=\"text-align: right;\">\n",
              "      <th></th>\n",
              "      <th>id</th>\n",
              "      <th>rate_unemployment</th>\n",
              "      <th>percent_college</th>\n",
              "      <th>percent_married</th>\n",
              "      <th>median_income</th>\n",
              "      <th>average_act</th>\n",
              "      <th>percent_lunch</th>\n",
              "    </tr>\n",
              "  </thead>\n",
              "  <tbody>\n",
              "    <tr>\n",
              "      <th>min</th>\n",
              "      <td>100001600143</td>\n",
              "      <td>0.00</td>\n",
              "      <td>0.09</td>\n",
              "      <td>0.0</td>\n",
              "      <td>3589.0</td>\n",
              "      <td>-3.07</td>\n",
              "      <td>-0.05</td>\n",
              "    </tr>\n",
              "    <tr>\n",
              "      <th>max</th>\n",
              "      <td>560583000335</td>\n",
              "      <td>0.59</td>\n",
              "      <td>1.00</td>\n",
              "      <td>1.0</td>\n",
              "      <td>226181.0</td>\n",
              "      <td>32.36</td>\n",
              "      <td>1.00</td>\n",
              "    </tr>\n",
              "  </tbody>\n",
              "</table>\n",
              "</div>\n",
              "      <button class=\"colab-df-convert\" onclick=\"convertToInteractive('df-6b690875-f5a4-48d2-9c1b-1f76ec3105f4')\"\n",
              "              title=\"Convert this dataframe to an interactive table.\"\n",
              "              style=\"display:none;\">\n",
              "        \n",
              "  <svg xmlns=\"http://www.w3.org/2000/svg\" height=\"24px\"viewBox=\"0 0 24 24\"\n",
              "       width=\"24px\">\n",
              "    <path d=\"M0 0h24v24H0V0z\" fill=\"none\"/>\n",
              "    <path d=\"M18.56 5.44l.94 2.06.94-2.06 2.06-.94-2.06-.94-.94-2.06-.94 2.06-2.06.94zm-11 1L8.5 8.5l.94-2.06 2.06-.94-2.06-.94L8.5 2.5l-.94 2.06-2.06.94zm10 10l.94 2.06.94-2.06 2.06-.94-2.06-.94-.94-2.06-.94 2.06-2.06.94z\"/><path d=\"M17.41 7.96l-1.37-1.37c-.4-.4-.92-.59-1.43-.59-.52 0-1.04.2-1.43.59L10.3 9.45l-7.72 7.72c-.78.78-.78 2.05 0 2.83L4 21.41c.39.39.9.59 1.41.59.51 0 1.02-.2 1.41-.59l7.78-7.78 2.81-2.81c.8-.78.8-2.07 0-2.86zM5.41 20L4 18.59l7.72-7.72 1.47 1.35L5.41 20z\"/>\n",
              "  </svg>\n",
              "      </button>\n",
              "      \n",
              "  <style>\n",
              "    .colab-df-container {\n",
              "      display:flex;\n",
              "      flex-wrap:wrap;\n",
              "      gap: 12px;\n",
              "    }\n",
              "\n",
              "    .colab-df-convert {\n",
              "      background-color: #E8F0FE;\n",
              "      border: none;\n",
              "      border-radius: 50%;\n",
              "      cursor: pointer;\n",
              "      display: none;\n",
              "      fill: #1967D2;\n",
              "      height: 32px;\n",
              "      padding: 0 0 0 0;\n",
              "      width: 32px;\n",
              "    }\n",
              "\n",
              "    .colab-df-convert:hover {\n",
              "      background-color: #E2EBFA;\n",
              "      box-shadow: 0px 1px 2px rgba(60, 64, 67, 0.3), 0px 1px 3px 1px rgba(60, 64, 67, 0.15);\n",
              "      fill: #174EA6;\n",
              "    }\n",
              "\n",
              "    [theme=dark] .colab-df-convert {\n",
              "      background-color: #3B4455;\n",
              "      fill: #D2E3FC;\n",
              "    }\n",
              "\n",
              "    [theme=dark] .colab-df-convert:hover {\n",
              "      background-color: #434B5C;\n",
              "      box-shadow: 0px 1px 3px 1px rgba(0, 0, 0, 0.15);\n",
              "      filter: drop-shadow(0px 1px 2px rgba(0, 0, 0, 0.3));\n",
              "      fill: #FFFFFF;\n",
              "    }\n",
              "  </style>\n",
              "\n",
              "      <script>\n",
              "        const buttonEl =\n",
              "          document.querySelector('#df-6b690875-f5a4-48d2-9c1b-1f76ec3105f4 button.colab-df-convert');\n",
              "        buttonEl.style.display =\n",
              "          google.colab.kernel.accessAllowed ? 'block' : 'none';\n",
              "\n",
              "        async function convertToInteractive(key) {\n",
              "          const element = document.querySelector('#df-6b690875-f5a4-48d2-9c1b-1f76ec3105f4');\n",
              "          const dataTable =\n",
              "            await google.colab.kernel.invokeFunction('convertToInteractive',\n",
              "                                                     [key], {});\n",
              "          if (!dataTable) return;\n",
              "\n",
              "          const docLinkHtml = 'Like what you see? Visit the ' +\n",
              "            '<a target=\"_blank\" href=https://colab.research.google.com/notebooks/data_table.ipynb>data table notebook</a>'\n",
              "            + ' to learn more about interactive tables.';\n",
              "          element.innerHTML = '';\n",
              "          dataTable['output_type'] = 'display_data';\n",
              "          await google.colab.output.renderOutput(dataTable, element);\n",
              "          const docLink = document.createElement('div');\n",
              "          docLink.innerHTML = docLinkHtml;\n",
              "          element.appendChild(docLink);\n",
              "        }\n",
              "      </script>\n",
              "    </div>\n",
              "  </div>\n",
              "  "
            ]
          },
          "metadata": {},
          "execution_count": 22
        }
      ]
    },
    {
      "cell_type": "markdown",
      "source": [
        "This shows that the average act and percent lunch have negatuve values that are not possible, we will need to remove those out of bounds variables."
      ],
      "metadata": {
        "id": "l7TlMEbL6zvQ"
      }
    },
    {
      "cell_type": "markdown",
      "source": [
        "We are going to set the out-of-range values to `NaN`."
      ],
      "metadata": {
        "id": "c5p-cQLo6kll"
      }
    },
    {
      "cell_type": "code",
      "metadata": {
        "id": "T8l3HdrxLRsZ"
      },
      "source": [
        "df.loc[df['percent_lunch'] < 0, 'percent_lunch'] = np.nan"
      ],
      "execution_count": 24,
      "outputs": []
    },
    {
      "cell_type": "code",
      "metadata": {
        "id": "6k3MM2FiK4J9"
      },
      "source": [
        "df.loc[df['average_act'] < 1, 'average_act'] = np.nan"
      ],
      "execution_count": 25,
      "outputs": []
    },
    {
      "cell_type": "markdown",
      "source": [
        "We are going to do a quality control check on the school_ type data set and ensure that the data we can work with."
      ],
      "metadata": {
        "id": "28up4qASPocP"
      }
    },
    {
      "cell_type": "code",
      "source": [
        "df['school_type'].value_counts()"
      ],
      "metadata": {
        "colab": {
          "base_uri": "https://localhost:8080/"
        },
        "id": "_oZ7M1yFP5kD",
        "outputId": "e1e23934-2045-4f22-9063-daf8d3394e15"
      },
      "execution_count": 26,
      "outputs": [
        {
          "output_type": "execute_result",
          "data": {
            "text/plain": [
              "Regular School                 7885\n",
              "Alternative School               10\n",
              "Special Education School          2\n",
              "Career and Technical School       1\n",
              "Name: school_type, dtype: int64"
            ]
          },
          "metadata": {},
          "execution_count": 26
        }
      ]
    },
    {
      "cell_type": "code",
      "source": [
        "df['school_level'].value_counts()"
      ],
      "metadata": {
        "colab": {
          "base_uri": "https://localhost:8080/"
        },
        "id": "iUe-95TsP-S8",
        "outputId": "c8551d04-6643-4f61-b195-d607537f8ad6"
      },
      "execution_count": 27,
      "outputs": [
        {
          "output_type": "execute_result",
          "data": {
            "text/plain": [
              "High            7230\n",
              "Other            631\n",
              "Not reported      35\n",
              "Elementary         2\n",
              "Name: school_level, dtype: int64"
            ]
          },
          "metadata": {},
          "execution_count": 27
        }
      ]
    },
    {
      "cell_type": "markdown",
      "source": [
        "We now want to keep only the high schools and get rid of any value that is not a high school."
      ],
      "metadata": {
        "id": "TdbEIeH4Genv"
      }
    },
    {
      "cell_type": "code",
      "source": [
        "df = df.loc[df['school_level'] == 'High']"
      ],
      "metadata": {
        "id": "tdda0OUBIWuA"
      },
      "execution_count": 28,
      "outputs": []
    },
    {
      "cell_type": "markdown",
      "source": [
        "## Identify missing values"
      ],
      "metadata": {
        "id": "aAaUY6N1rtoa"
      }
    },
    {
      "cell_type": "markdown",
      "source": [
        "We will check to see how many values are missing."
      ],
      "metadata": {
        "id": "7yrJZMs8Onpn"
      }
    },
    {
      "cell_type": "code",
      "source": [
        "df.isna().sum()"
      ],
      "metadata": {
        "colab": {
          "base_uri": "https://localhost:8080/"
        },
        "id": "SzJ4LmQzOq1a",
        "outputId": "964aa988-cbcd-428c-9e70-287b4f84acef"
      },
      "execution_count": 29,
      "outputs": [
        {
          "output_type": "execute_result",
          "data": {
            "text/plain": [
              "id                    0\n",
              "rate_unemployment    12\n",
              "percent_college      11\n",
              "percent_married      20\n",
              "median_income        16\n",
              "average_act           3\n",
              "percent_lunch        20\n",
              "year                  0\n",
              "state                 0\n",
              "zip_code              0\n",
              "school_type           0\n",
              "school_level          0\n",
              "dtype: int64"
            ]
          },
          "metadata": {},
          "execution_count": 29
        }
      ]
    },
    {
      "cell_type": "markdown",
      "metadata": {
        "id": "2MkZsTFpkd7k"
      },
      "source": [
        "We will now check to see what the percent of each value is missing."
      ]
    },
    {
      "cell_type": "code",
      "metadata": {
        "id": "CY_Gu7PhT-uV",
        "colab": {
          "base_uri": "https://localhost:8080/"
        },
        "outputId": "1afa828c-2361-4419-fb4d-8bcb27642b2f"
      },
      "source": [
        "df.isna().mean().round(4)*100"
      ],
      "execution_count": 30,
      "outputs": [
        {
          "output_type": "execute_result",
          "data": {
            "text/plain": [
              "id                   0.00\n",
              "rate_unemployment    0.17\n",
              "percent_college      0.15\n",
              "percent_married      0.28\n",
              "median_income        0.22\n",
              "average_act          0.04\n",
              "percent_lunch        0.28\n",
              "year                 0.00\n",
              "state                0.00\n",
              "zip_code             0.00\n",
              "school_type          0.00\n",
              "school_level         0.00\n",
              "dtype: float64"
            ]
          },
          "metadata": {},
          "execution_count": 30
        }
      ]
    },
    {
      "cell_type": "markdown",
      "source": [
        "This shows that there are some missing values for the socioeconomic varaibles. However, many of the schools that are missing, it is only the subset of the variables and not the entire subset. We will not drop those rows that have NaN, because then it will become difficult to peform an anaylsis and draw meaningful conclusions. The average ACT score will be dropped because its missing.\n",
        "\n",
        "We will impute the remaining missing values after splitting the data into training and testing sets for model evaluation."
      ],
      "metadata": {
        "id": "FBsfcd_--YvX"
      }
    },
    {
      "cell_type": "code",
      "metadata": {
        "id": "atVZHNGxBVPI"
      },
      "source": [
        "df = df.loc[df['average_act'].isna() == False]"
      ],
      "execution_count": 31,
      "outputs": []
    },
    {
      "cell_type": "markdown",
      "source": [
        "## Train test split"
      ],
      "metadata": {
        "id": "QzNg-sqmS5PG"
      }
    },
    {
      "cell_type": "markdown",
      "metadata": {
        "id": "wwOQylmrIn79"
      },
      "source": [
        "#### Get input and output variables."
      ]
    },
    {
      "cell_type": "markdown",
      "metadata": {
        "id": "mCAJeAxVmpNZ"
      },
      "source": [
        "##### $\\rightarrow$ We need to determine what variables will be the input and output baraibles. So we will define the matrix of predictor variables `X` to be all columns except `id` and `average_act` and define the output variable `y` to be `average_act`."
      ]
    },
    {
      "cell_type": "code",
      "metadata": {
        "id": "aU9BHPhMIsdv"
      },
      "source": [
        "X = df[df.columns.difference(['id','average_act'])]\n",
        "y = df['average_act']"
      ],
      "execution_count": 34,
      "outputs": []
    },
    {
      "cell_type": "markdown",
      "metadata": {
        "id": "-fDR9a8QLcxk"
      },
      "source": [
        "#### Train and test splits"
      ]
    },
    {
      "cell_type": "markdown",
      "metadata": {
        "id": "IuKh1G1nnaJP"
      },
      "source": [
        "We will want to find a way to predict the average _act. We will use the test set approach to compare models predicting `average_act`. We will use our single dataset of DF to determine a way of predicting the average_act variable.\n",
        "\n",
        "![](https://upload.wikimedia.org/wikipedia/commons/thumb/b/bb/ML_dataset_training_validation_test_sets.png/800px-ML_dataset_training_validation_test_sets.png)"
      ]
    },
    {
      "cell_type": "markdown",
      "metadata": {
        "id": "d2PzPWfJN_uM"
      },
      "source": [
        "##### $\\rightarrow$ we will be partioning the data to use to predict the average_act varaible, we are going ot split the data into training and testing sets. we will be keeping 20% of the data for the test set.  We will use a random function to decide what data to put into the 20%."
      ]
    },
    {
      "cell_type": "code",
      "metadata": {
        "id": "H0qRrBZaN_uM"
      },
      "source": [
        "\n",
        "X_train, X_test, y_train, y_test = train_test_split(X, y, test_size=.2, random_state = 1)"
      ],
      "execution_count": 37,
      "outputs": []
    },
    {
      "cell_type": "markdown",
      "metadata": {
        "id": "bGsYqZapogyq"
      },
      "source": [
        "##### $\\rightarrow$ we are going to do a quality check by checking that the training and testing input variables have similar means and standard deviations. This will tell us if we were able to divide up the data into the 20% correctly without a bias."
      ]
    },
    {
      "cell_type": "code",
      "metadata": {
        "id": "Mj9unEG_oLXZ",
        "colab": {
          "base_uri": "https://localhost:8080/",
          "height": 168
        },
        "outputId": "2bfef59b-616c-49d2-90c5-c963bf62f123"
      },
      "source": [
        "X_train.agg(['mean','std']).round(2)\n",
        "#X_train.describe()"
      ],
      "execution_count": 39,
      "outputs": [
        {
          "output_type": "stream",
          "name": "stderr",
          "text": [
            "<ipython-input-39-f4b4e74f3eba>:1: FutureWarning: ['school_level', 'school_type', 'state', 'year', 'zip_code'] did not aggregate successfully. If any error is raised this will raise in a future version of pandas. Drop these columns/ops to avoid this warning.\n",
            "  X_train.agg(['mean','std']).round(2)\n"
          ]
        },
        {
          "output_type": "execute_result",
          "data": {
            "text/plain": [
              "      median_income  percent_college  percent_lunch  percent_married  \\\n",
              "mean       53170.26             0.57           0.41             0.64   \n",
              "std        24827.94             0.17           0.23             0.19   \n",
              "\n",
              "      rate_unemployment  \n",
              "mean               0.10  \n",
              "std                0.06  "
            ],
            "text/html": [
              "\n",
              "  <div id=\"df-5ec89098-f45c-440a-88a7-ff21a33f1943\">\n",
              "    <div class=\"colab-df-container\">\n",
              "      <div>\n",
              "<style scoped>\n",
              "    .dataframe tbody tr th:only-of-type {\n",
              "        vertical-align: middle;\n",
              "    }\n",
              "\n",
              "    .dataframe tbody tr th {\n",
              "        vertical-align: top;\n",
              "    }\n",
              "\n",
              "    .dataframe thead th {\n",
              "        text-align: right;\n",
              "    }\n",
              "</style>\n",
              "<table border=\"1\" class=\"dataframe\">\n",
              "  <thead>\n",
              "    <tr style=\"text-align: right;\">\n",
              "      <th></th>\n",
              "      <th>median_income</th>\n",
              "      <th>percent_college</th>\n",
              "      <th>percent_lunch</th>\n",
              "      <th>percent_married</th>\n",
              "      <th>rate_unemployment</th>\n",
              "    </tr>\n",
              "  </thead>\n",
              "  <tbody>\n",
              "    <tr>\n",
              "      <th>mean</th>\n",
              "      <td>53170.26</td>\n",
              "      <td>0.57</td>\n",
              "      <td>0.41</td>\n",
              "      <td>0.64</td>\n",
              "      <td>0.10</td>\n",
              "    </tr>\n",
              "    <tr>\n",
              "      <th>std</th>\n",
              "      <td>24827.94</td>\n",
              "      <td>0.17</td>\n",
              "      <td>0.23</td>\n",
              "      <td>0.19</td>\n",
              "      <td>0.06</td>\n",
              "    </tr>\n",
              "  </tbody>\n",
              "</table>\n",
              "</div>\n",
              "      <button class=\"colab-df-convert\" onclick=\"convertToInteractive('df-5ec89098-f45c-440a-88a7-ff21a33f1943')\"\n",
              "              title=\"Convert this dataframe to an interactive table.\"\n",
              "              style=\"display:none;\">\n",
              "        \n",
              "  <svg xmlns=\"http://www.w3.org/2000/svg\" height=\"24px\"viewBox=\"0 0 24 24\"\n",
              "       width=\"24px\">\n",
              "    <path d=\"M0 0h24v24H0V0z\" fill=\"none\"/>\n",
              "    <path d=\"M18.56 5.44l.94 2.06.94-2.06 2.06-.94-2.06-.94-.94-2.06-.94 2.06-2.06.94zm-11 1L8.5 8.5l.94-2.06 2.06-.94-2.06-.94L8.5 2.5l-.94 2.06-2.06.94zm10 10l.94 2.06.94-2.06 2.06-.94-2.06-.94-.94-2.06-.94 2.06-2.06.94z\"/><path d=\"M17.41 7.96l-1.37-1.37c-.4-.4-.92-.59-1.43-.59-.52 0-1.04.2-1.43.59L10.3 9.45l-7.72 7.72c-.78.78-.78 2.05 0 2.83L4 21.41c.39.39.9.59 1.41.59.51 0 1.02-.2 1.41-.59l7.78-7.78 2.81-2.81c.8-.78.8-2.07 0-2.86zM5.41 20L4 18.59l7.72-7.72 1.47 1.35L5.41 20z\"/>\n",
              "  </svg>\n",
              "      </button>\n",
              "      \n",
              "  <style>\n",
              "    .colab-df-container {\n",
              "      display:flex;\n",
              "      flex-wrap:wrap;\n",
              "      gap: 12px;\n",
              "    }\n",
              "\n",
              "    .colab-df-convert {\n",
              "      background-color: #E8F0FE;\n",
              "      border: none;\n",
              "      border-radius: 50%;\n",
              "      cursor: pointer;\n",
              "      display: none;\n",
              "      fill: #1967D2;\n",
              "      height: 32px;\n",
              "      padding: 0 0 0 0;\n",
              "      width: 32px;\n",
              "    }\n",
              "\n",
              "    .colab-df-convert:hover {\n",
              "      background-color: #E2EBFA;\n",
              "      box-shadow: 0px 1px 2px rgba(60, 64, 67, 0.3), 0px 1px 3px 1px rgba(60, 64, 67, 0.15);\n",
              "      fill: #174EA6;\n",
              "    }\n",
              "\n",
              "    [theme=dark] .colab-df-convert {\n",
              "      background-color: #3B4455;\n",
              "      fill: #D2E3FC;\n",
              "    }\n",
              "\n",
              "    [theme=dark] .colab-df-convert:hover {\n",
              "      background-color: #434B5C;\n",
              "      box-shadow: 0px 1px 3px 1px rgba(0, 0, 0, 0.15);\n",
              "      filter: drop-shadow(0px 1px 2px rgba(0, 0, 0, 0.3));\n",
              "      fill: #FFFFFF;\n",
              "    }\n",
              "  </style>\n",
              "\n",
              "      <script>\n",
              "        const buttonEl =\n",
              "          document.querySelector('#df-5ec89098-f45c-440a-88a7-ff21a33f1943 button.colab-df-convert');\n",
              "        buttonEl.style.display =\n",
              "          google.colab.kernel.accessAllowed ? 'block' : 'none';\n",
              "\n",
              "        async function convertToInteractive(key) {\n",
              "          const element = document.querySelector('#df-5ec89098-f45c-440a-88a7-ff21a33f1943');\n",
              "          const dataTable =\n",
              "            await google.colab.kernel.invokeFunction('convertToInteractive',\n",
              "                                                     [key], {});\n",
              "          if (!dataTable) return;\n",
              "\n",
              "          const docLinkHtml = 'Like what you see? Visit the ' +\n",
              "            '<a target=\"_blank\" href=https://colab.research.google.com/notebooks/data_table.ipynb>data table notebook</a>'\n",
              "            + ' to learn more about interactive tables.';\n",
              "          element.innerHTML = '';\n",
              "          dataTable['output_type'] = 'display_data';\n",
              "          await google.colab.output.renderOutput(dataTable, element);\n",
              "          const docLink = document.createElement('div');\n",
              "          docLink.innerHTML = docLinkHtml;\n",
              "          element.appendChild(docLink);\n",
              "        }\n",
              "      </script>\n",
              "    </div>\n",
              "  </div>\n",
              "  "
            ]
          },
          "metadata": {},
          "execution_count": 39
        }
      ]
    },
    {
      "cell_type": "code",
      "metadata": {
        "id": "rz22XAVOoNlL",
        "colab": {
          "base_uri": "https://localhost:8080/",
          "height": 168
        },
        "outputId": "b2c96a3a-e2ea-43e1-8a1a-0d91de1626db"
      },
      "source": [
        "X_test.agg(['mean','std']).round(2)"
      ],
      "execution_count": 40,
      "outputs": [
        {
          "output_type": "stream",
          "name": "stderr",
          "text": [
            "<ipython-input-40-247411c871de>:1: FutureWarning: ['school_level', 'school_type', 'state', 'year', 'zip_code'] did not aggregate successfully. If any error is raised this will raise in a future version of pandas. Drop these columns/ops to avoid this warning.\n",
            "  X_test.agg(['mean','std']).round(2)\n"
          ]
        },
        {
          "output_type": "execute_result",
          "data": {
            "text/plain": [
              "      median_income  percent_college  percent_lunch  percent_married  \\\n",
              "mean       51179.23             0.57           0.42             0.63   \n",
              "std        22358.47             0.16           0.24             0.19   \n",
              "\n",
              "      rate_unemployment  \n",
              "mean               0.10  \n",
              "std                0.06  "
            ],
            "text/html": [
              "\n",
              "  <div id=\"df-561af647-2ebe-4fab-b592-9a22566a1af4\">\n",
              "    <div class=\"colab-df-container\">\n",
              "      <div>\n",
              "<style scoped>\n",
              "    .dataframe tbody tr th:only-of-type {\n",
              "        vertical-align: middle;\n",
              "    }\n",
              "\n",
              "    .dataframe tbody tr th {\n",
              "        vertical-align: top;\n",
              "    }\n",
              "\n",
              "    .dataframe thead th {\n",
              "        text-align: right;\n",
              "    }\n",
              "</style>\n",
              "<table border=\"1\" class=\"dataframe\">\n",
              "  <thead>\n",
              "    <tr style=\"text-align: right;\">\n",
              "      <th></th>\n",
              "      <th>median_income</th>\n",
              "      <th>percent_college</th>\n",
              "      <th>percent_lunch</th>\n",
              "      <th>percent_married</th>\n",
              "      <th>rate_unemployment</th>\n",
              "    </tr>\n",
              "  </thead>\n",
              "  <tbody>\n",
              "    <tr>\n",
              "      <th>mean</th>\n",
              "      <td>51179.23</td>\n",
              "      <td>0.57</td>\n",
              "      <td>0.42</td>\n",
              "      <td>0.63</td>\n",
              "      <td>0.10</td>\n",
              "    </tr>\n",
              "    <tr>\n",
              "      <th>std</th>\n",
              "      <td>22358.47</td>\n",
              "      <td>0.16</td>\n",
              "      <td>0.24</td>\n",
              "      <td>0.19</td>\n",
              "      <td>0.06</td>\n",
              "    </tr>\n",
              "  </tbody>\n",
              "</table>\n",
              "</div>\n",
              "      <button class=\"colab-df-convert\" onclick=\"convertToInteractive('df-561af647-2ebe-4fab-b592-9a22566a1af4')\"\n",
              "              title=\"Convert this dataframe to an interactive table.\"\n",
              "              style=\"display:none;\">\n",
              "        \n",
              "  <svg xmlns=\"http://www.w3.org/2000/svg\" height=\"24px\"viewBox=\"0 0 24 24\"\n",
              "       width=\"24px\">\n",
              "    <path d=\"M0 0h24v24H0V0z\" fill=\"none\"/>\n",
              "    <path d=\"M18.56 5.44l.94 2.06.94-2.06 2.06-.94-2.06-.94-.94-2.06-.94 2.06-2.06.94zm-11 1L8.5 8.5l.94-2.06 2.06-.94-2.06-.94L8.5 2.5l-.94 2.06-2.06.94zm10 10l.94 2.06.94-2.06 2.06-.94-2.06-.94-.94-2.06-.94 2.06-2.06.94z\"/><path d=\"M17.41 7.96l-1.37-1.37c-.4-.4-.92-.59-1.43-.59-.52 0-1.04.2-1.43.59L10.3 9.45l-7.72 7.72c-.78.78-.78 2.05 0 2.83L4 21.41c.39.39.9.59 1.41.59.51 0 1.02-.2 1.41-.59l7.78-7.78 2.81-2.81c.8-.78.8-2.07 0-2.86zM5.41 20L4 18.59l7.72-7.72 1.47 1.35L5.41 20z\"/>\n",
              "  </svg>\n",
              "      </button>\n",
              "      \n",
              "  <style>\n",
              "    .colab-df-container {\n",
              "      display:flex;\n",
              "      flex-wrap:wrap;\n",
              "      gap: 12px;\n",
              "    }\n",
              "\n",
              "    .colab-df-convert {\n",
              "      background-color: #E8F0FE;\n",
              "      border: none;\n",
              "      border-radius: 50%;\n",
              "      cursor: pointer;\n",
              "      display: none;\n",
              "      fill: #1967D2;\n",
              "      height: 32px;\n",
              "      padding: 0 0 0 0;\n",
              "      width: 32px;\n",
              "    }\n",
              "\n",
              "    .colab-df-convert:hover {\n",
              "      background-color: #E2EBFA;\n",
              "      box-shadow: 0px 1px 2px rgba(60, 64, 67, 0.3), 0px 1px 3px 1px rgba(60, 64, 67, 0.15);\n",
              "      fill: #174EA6;\n",
              "    }\n",
              "\n",
              "    [theme=dark] .colab-df-convert {\n",
              "      background-color: #3B4455;\n",
              "      fill: #D2E3FC;\n",
              "    }\n",
              "\n",
              "    [theme=dark] .colab-df-convert:hover {\n",
              "      background-color: #434B5C;\n",
              "      box-shadow: 0px 1px 3px 1px rgba(0, 0, 0, 0.15);\n",
              "      filter: drop-shadow(0px 1px 2px rgba(0, 0, 0, 0.3));\n",
              "      fill: #FFFFFF;\n",
              "    }\n",
              "  </style>\n",
              "\n",
              "      <script>\n",
              "        const buttonEl =\n",
              "          document.querySelector('#df-561af647-2ebe-4fab-b592-9a22566a1af4 button.colab-df-convert');\n",
              "        buttonEl.style.display =\n",
              "          google.colab.kernel.accessAllowed ? 'block' : 'none';\n",
              "\n",
              "        async function convertToInteractive(key) {\n",
              "          const element = document.querySelector('#df-561af647-2ebe-4fab-b592-9a22566a1af4');\n",
              "          const dataTable =\n",
              "            await google.colab.kernel.invokeFunction('convertToInteractive',\n",
              "                                                     [key], {});\n",
              "          if (!dataTable) return;\n",
              "\n",
              "          const docLinkHtml = 'Like what you see? Visit the ' +\n",
              "            '<a target=\"_blank\" href=https://colab.research.google.com/notebooks/data_table.ipynb>data table notebook</a>'\n",
              "            + ' to learn more about interactive tables.';\n",
              "          element.innerHTML = '';\n",
              "          dataTable['output_type'] = 'display_data';\n",
              "          await google.colab.output.renderOutput(dataTable, element);\n",
              "          const docLink = document.createElement('div');\n",
              "          docLink.innerHTML = docLinkHtml;\n",
              "          element.appendChild(docLink);\n",
              "        }\n",
              "      </script>\n",
              "    </div>\n",
              "  </div>\n",
              "  "
            ]
          },
          "metadata": {},
          "execution_count": 40
        }
      ]
    },
    {
      "cell_type": "markdown",
      "metadata": {
        "id": "QVnTZbDAZFLb"
      },
      "source": [
        "The mean and std should be very similar with both sets of data.There could be a small difference but overall we are looking at the mean and standard deviation for simplicity."
      ]
    },
    {
      "cell_type": "markdown",
      "source": [
        "#### Imputation"
      ],
      "metadata": {
        "id": "av2CbRx_ESZM"
      }
    },
    {
      "cell_type": "markdown",
      "source": [
        "We are going to define an imputer. Here we will use the iterative imputer."
      ],
      "metadata": {
        "id": "cov0jpiQGxvw"
      }
    },
    {
      "cell_type": "code",
      "source": [
        "\n",
        "imputer = IterativeImputer()"
      ],
      "metadata": {
        "id": "flj_jFCfET6S"
      },
      "execution_count": 41,
      "outputs": []
    },
    {
      "cell_type": "markdown",
      "source": [
        "We are goin to fit the imputer for the training data only."
      ],
      "metadata": {
        "id": "aQ6wDG8BG31e"
      }
    },
    {
      "cell_type": "code",
      "source": [
        "X_train.head()"
      ],
      "metadata": {
        "colab": {
          "base_uri": "https://localhost:8080/",
          "height": 337
        },
        "id": "QqR4lApXxjX0",
        "outputId": "3f842ac4-d1bc-45ae-b7f9-07f2b5faf955"
      },
      "execution_count": 42,
      "outputs": [
        {
          "output_type": "execute_result",
          "data": {
            "text/plain": [
              "      median_income  percent_college  percent_lunch  percent_married  \\\n",
              "3663        41793.0         0.602419       0.542056         0.574034   \n",
              "1689        38173.0         0.469225       0.339655         0.711429   \n",
              "5852        39635.0         0.567361       0.270175         0.694514   \n",
              "3288        40978.0         0.467614       0.315556         0.766901   \n",
              "378         36875.0         0.604470       0.548410         0.803435   \n",
              "\n",
              "      rate_unemployment school_level     school_type state       year zip_code  \n",
              "3663           0.111111         High  Regular School    NJ  2016-2017     7306  \n",
              "1689           0.135246         High  Regular School    IN  2016-2017    47567  \n",
              "5852           0.083419         High  Regular School    PA  2016-2017    15853  \n",
              "3288           0.062531         High  Regular School    MO  2016-2017    64644  \n",
              "378            0.071429         High  Regular School    FL  2016-2017    34669  "
            ],
            "text/html": [
              "\n",
              "  <div id=\"df-7e3d8c2c-87ec-4d1d-a204-c6522050e00f\">\n",
              "    <div class=\"colab-df-container\">\n",
              "      <div>\n",
              "<style scoped>\n",
              "    .dataframe tbody tr th:only-of-type {\n",
              "        vertical-align: middle;\n",
              "    }\n",
              "\n",
              "    .dataframe tbody tr th {\n",
              "        vertical-align: top;\n",
              "    }\n",
              "\n",
              "    .dataframe thead th {\n",
              "        text-align: right;\n",
              "    }\n",
              "</style>\n",
              "<table border=\"1\" class=\"dataframe\">\n",
              "  <thead>\n",
              "    <tr style=\"text-align: right;\">\n",
              "      <th></th>\n",
              "      <th>median_income</th>\n",
              "      <th>percent_college</th>\n",
              "      <th>percent_lunch</th>\n",
              "      <th>percent_married</th>\n",
              "      <th>rate_unemployment</th>\n",
              "      <th>school_level</th>\n",
              "      <th>school_type</th>\n",
              "      <th>state</th>\n",
              "      <th>year</th>\n",
              "      <th>zip_code</th>\n",
              "    </tr>\n",
              "  </thead>\n",
              "  <tbody>\n",
              "    <tr>\n",
              "      <th>3663</th>\n",
              "      <td>41793.0</td>\n",
              "      <td>0.602419</td>\n",
              "      <td>0.542056</td>\n",
              "      <td>0.574034</td>\n",
              "      <td>0.111111</td>\n",
              "      <td>High</td>\n",
              "      <td>Regular School</td>\n",
              "      <td>NJ</td>\n",
              "      <td>2016-2017</td>\n",
              "      <td>7306</td>\n",
              "    </tr>\n",
              "    <tr>\n",
              "      <th>1689</th>\n",
              "      <td>38173.0</td>\n",
              "      <td>0.469225</td>\n",
              "      <td>0.339655</td>\n",
              "      <td>0.711429</td>\n",
              "      <td>0.135246</td>\n",
              "      <td>High</td>\n",
              "      <td>Regular School</td>\n",
              "      <td>IN</td>\n",
              "      <td>2016-2017</td>\n",
              "      <td>47567</td>\n",
              "    </tr>\n",
              "    <tr>\n",
              "      <th>5852</th>\n",
              "      <td>39635.0</td>\n",
              "      <td>0.567361</td>\n",
              "      <td>0.270175</td>\n",
              "      <td>0.694514</td>\n",
              "      <td>0.083419</td>\n",
              "      <td>High</td>\n",
              "      <td>Regular School</td>\n",
              "      <td>PA</td>\n",
              "      <td>2016-2017</td>\n",
              "      <td>15853</td>\n",
              "    </tr>\n",
              "    <tr>\n",
              "      <th>3288</th>\n",
              "      <td>40978.0</td>\n",
              "      <td>0.467614</td>\n",
              "      <td>0.315556</td>\n",
              "      <td>0.766901</td>\n",
              "      <td>0.062531</td>\n",
              "      <td>High</td>\n",
              "      <td>Regular School</td>\n",
              "      <td>MO</td>\n",
              "      <td>2016-2017</td>\n",
              "      <td>64644</td>\n",
              "    </tr>\n",
              "    <tr>\n",
              "      <th>378</th>\n",
              "      <td>36875.0</td>\n",
              "      <td>0.604470</td>\n",
              "      <td>0.548410</td>\n",
              "      <td>0.803435</td>\n",
              "      <td>0.071429</td>\n",
              "      <td>High</td>\n",
              "      <td>Regular School</td>\n",
              "      <td>FL</td>\n",
              "      <td>2016-2017</td>\n",
              "      <td>34669</td>\n",
              "    </tr>\n",
              "  </tbody>\n",
              "</table>\n",
              "</div>\n",
              "      <button class=\"colab-df-convert\" onclick=\"convertToInteractive('df-7e3d8c2c-87ec-4d1d-a204-c6522050e00f')\"\n",
              "              title=\"Convert this dataframe to an interactive table.\"\n",
              "              style=\"display:none;\">\n",
              "        \n",
              "  <svg xmlns=\"http://www.w3.org/2000/svg\" height=\"24px\"viewBox=\"0 0 24 24\"\n",
              "       width=\"24px\">\n",
              "    <path d=\"M0 0h24v24H0V0z\" fill=\"none\"/>\n",
              "    <path d=\"M18.56 5.44l.94 2.06.94-2.06 2.06-.94-2.06-.94-.94-2.06-.94 2.06-2.06.94zm-11 1L8.5 8.5l.94-2.06 2.06-.94-2.06-.94L8.5 2.5l-.94 2.06-2.06.94zm10 10l.94 2.06.94-2.06 2.06-.94-2.06-.94-.94-2.06-.94 2.06-2.06.94z\"/><path d=\"M17.41 7.96l-1.37-1.37c-.4-.4-.92-.59-1.43-.59-.52 0-1.04.2-1.43.59L10.3 9.45l-7.72 7.72c-.78.78-.78 2.05 0 2.83L4 21.41c.39.39.9.59 1.41.59.51 0 1.02-.2 1.41-.59l7.78-7.78 2.81-2.81c.8-.78.8-2.07 0-2.86zM5.41 20L4 18.59l7.72-7.72 1.47 1.35L5.41 20z\"/>\n",
              "  </svg>\n",
              "      </button>\n",
              "      \n",
              "  <style>\n",
              "    .colab-df-container {\n",
              "      display:flex;\n",
              "      flex-wrap:wrap;\n",
              "      gap: 12px;\n",
              "    }\n",
              "\n",
              "    .colab-df-convert {\n",
              "      background-color: #E8F0FE;\n",
              "      border: none;\n",
              "      border-radius: 50%;\n",
              "      cursor: pointer;\n",
              "      display: none;\n",
              "      fill: #1967D2;\n",
              "      height: 32px;\n",
              "      padding: 0 0 0 0;\n",
              "      width: 32px;\n",
              "    }\n",
              "\n",
              "    .colab-df-convert:hover {\n",
              "      background-color: #E2EBFA;\n",
              "      box-shadow: 0px 1px 2px rgba(60, 64, 67, 0.3), 0px 1px 3px 1px rgba(60, 64, 67, 0.15);\n",
              "      fill: #174EA6;\n",
              "    }\n",
              "\n",
              "    [theme=dark] .colab-df-convert {\n",
              "      background-color: #3B4455;\n",
              "      fill: #D2E3FC;\n",
              "    }\n",
              "\n",
              "    [theme=dark] .colab-df-convert:hover {\n",
              "      background-color: #434B5C;\n",
              "      box-shadow: 0px 1px 3px 1px rgba(0, 0, 0, 0.15);\n",
              "      filter: drop-shadow(0px 1px 2px rgba(0, 0, 0, 0.3));\n",
              "      fill: #FFFFFF;\n",
              "    }\n",
              "  </style>\n",
              "\n",
              "      <script>\n",
              "        const buttonEl =\n",
              "          document.querySelector('#df-7e3d8c2c-87ec-4d1d-a204-c6522050e00f button.colab-df-convert');\n",
              "        buttonEl.style.display =\n",
              "          google.colab.kernel.accessAllowed ? 'block' : 'none';\n",
              "\n",
              "        async function convertToInteractive(key) {\n",
              "          const element = document.querySelector('#df-7e3d8c2c-87ec-4d1d-a204-c6522050e00f');\n",
              "          const dataTable =\n",
              "            await google.colab.kernel.invokeFunction('convertToInteractive',\n",
              "                                                     [key], {});\n",
              "          if (!dataTable) return;\n",
              "\n",
              "          const docLinkHtml = 'Like what you see? Visit the ' +\n",
              "            '<a target=\"_blank\" href=https://colab.research.google.com/notebooks/data_table.ipynb>data table notebook</a>'\n",
              "            + ' to learn more about interactive tables.';\n",
              "          element.innerHTML = '';\n",
              "          dataTable['output_type'] = 'display_data';\n",
              "          await google.colab.output.renderOutput(dataTable, element);\n",
              "          const docLink = document.createElement('div');\n",
              "          docLink.innerHTML = docLinkHtml;\n",
              "          element.appendChild(docLink);\n",
              "        }\n",
              "      </script>\n",
              "    </div>\n",
              "  </div>\n",
              "  "
            ]
          },
          "metadata": {},
          "execution_count": 42
        }
      ]
    },
    {
      "cell_type": "code",
      "source": [
        "imputer.fit(X_train.loc[:,'median_income':'rate_unemployment'])"
      ],
      "metadata": {
        "colab": {
          "base_uri": "https://localhost:8080/",
          "height": 74
        },
        "id": "ZGKM5O5VGf0t",
        "outputId": "1f46a4d0-f7c0-42c4-c89a-eb4991486e28"
      },
      "execution_count": 43,
      "outputs": [
        {
          "output_type": "execute_result",
          "data": {
            "text/plain": [
              "IterativeImputer()"
            ],
            "text/html": [
              "<style>#sk-container-id-1 {color: black;background-color: white;}#sk-container-id-1 pre{padding: 0;}#sk-container-id-1 div.sk-toggleable {background-color: white;}#sk-container-id-1 label.sk-toggleable__label {cursor: pointer;display: block;width: 100%;margin-bottom: 0;padding: 0.3em;box-sizing: border-box;text-align: center;}#sk-container-id-1 label.sk-toggleable__label-arrow:before {content: \"▸\";float: left;margin-right: 0.25em;color: #696969;}#sk-container-id-1 label.sk-toggleable__label-arrow:hover:before {color: black;}#sk-container-id-1 div.sk-estimator:hover label.sk-toggleable__label-arrow:before {color: black;}#sk-container-id-1 div.sk-toggleable__content {max-height: 0;max-width: 0;overflow: hidden;text-align: left;background-color: #f0f8ff;}#sk-container-id-1 div.sk-toggleable__content pre {margin: 0.2em;color: black;border-radius: 0.25em;background-color: #f0f8ff;}#sk-container-id-1 input.sk-toggleable__control:checked~div.sk-toggleable__content {max-height: 200px;max-width: 100%;overflow: auto;}#sk-container-id-1 input.sk-toggleable__control:checked~label.sk-toggleable__label-arrow:before {content: \"▾\";}#sk-container-id-1 div.sk-estimator input.sk-toggleable__control:checked~label.sk-toggleable__label {background-color: #d4ebff;}#sk-container-id-1 div.sk-label input.sk-toggleable__control:checked~label.sk-toggleable__label {background-color: #d4ebff;}#sk-container-id-1 input.sk-hidden--visually {border: 0;clip: rect(1px 1px 1px 1px);clip: rect(1px, 1px, 1px, 1px);height: 1px;margin: -1px;overflow: hidden;padding: 0;position: absolute;width: 1px;}#sk-container-id-1 div.sk-estimator {font-family: monospace;background-color: #f0f8ff;border: 1px dotted black;border-radius: 0.25em;box-sizing: border-box;margin-bottom: 0.5em;}#sk-container-id-1 div.sk-estimator:hover {background-color: #d4ebff;}#sk-container-id-1 div.sk-parallel-item::after {content: \"\";width: 100%;border-bottom: 1px solid gray;flex-grow: 1;}#sk-container-id-1 div.sk-label:hover label.sk-toggleable__label {background-color: #d4ebff;}#sk-container-id-1 div.sk-serial::before {content: \"\";position: absolute;border-left: 1px solid gray;box-sizing: border-box;top: 0;bottom: 0;left: 50%;z-index: 0;}#sk-container-id-1 div.sk-serial {display: flex;flex-direction: column;align-items: center;background-color: white;padding-right: 0.2em;padding-left: 0.2em;position: relative;}#sk-container-id-1 div.sk-item {position: relative;z-index: 1;}#sk-container-id-1 div.sk-parallel {display: flex;align-items: stretch;justify-content: center;background-color: white;position: relative;}#sk-container-id-1 div.sk-item::before, #sk-container-id-1 div.sk-parallel-item::before {content: \"\";position: absolute;border-left: 1px solid gray;box-sizing: border-box;top: 0;bottom: 0;left: 50%;z-index: -1;}#sk-container-id-1 div.sk-parallel-item {display: flex;flex-direction: column;z-index: 1;position: relative;background-color: white;}#sk-container-id-1 div.sk-parallel-item:first-child::after {align-self: flex-end;width: 50%;}#sk-container-id-1 div.sk-parallel-item:last-child::after {align-self: flex-start;width: 50%;}#sk-container-id-1 div.sk-parallel-item:only-child::after {width: 0;}#sk-container-id-1 div.sk-dashed-wrapped {border: 1px dashed gray;margin: 0 0.4em 0.5em 0.4em;box-sizing: border-box;padding-bottom: 0.4em;background-color: white;}#sk-container-id-1 div.sk-label label {font-family: monospace;font-weight: bold;display: inline-block;line-height: 1.2em;}#sk-container-id-1 div.sk-label-container {text-align: center;}#sk-container-id-1 div.sk-container {/* jupyter's `normalize.less` sets `[hidden] { display: none; }` but bootstrap.min.css set `[hidden] { display: none !important; }` so we also need the `!important` here to be able to override the default hidden behavior on the sphinx rendered scikit-learn.org. See: https://github.com/scikit-learn/scikit-learn/issues/21755 */display: inline-block !important;position: relative;}#sk-container-id-1 div.sk-text-repr-fallback {display: none;}</style><div id=\"sk-container-id-1\" class=\"sk-top-container\"><div class=\"sk-text-repr-fallback\"><pre>IterativeImputer()</pre><b>In a Jupyter environment, please rerun this cell to show the HTML representation or trust the notebook. <br />On GitHub, the HTML representation is unable to render, please try loading this page with nbviewer.org.</b></div><div class=\"sk-container\" hidden><div class=\"sk-item\"><div class=\"sk-estimator sk-toggleable\"><input class=\"sk-toggleable__control sk-hidden--visually\" id=\"sk-estimator-id-1\" type=\"checkbox\" checked><label for=\"sk-estimator-id-1\" class=\"sk-toggleable__label sk-toggleable__label-arrow\">IterativeImputer</label><div class=\"sk-toggleable__content\"><pre>IterativeImputer()</pre></div></div></div></div></div>"
            ]
          },
          "metadata": {},
          "execution_count": 43
        }
      ]
    },
    {
      "cell_type": "markdown",
      "source": [
        "We will now impute the missing data into the data set."
      ],
      "metadata": {
        "id": "LxnxxJ7JHAOU"
      }
    },
    {
      "cell_type": "code",
      "source": [
        "X_train.info()"
      ],
      "metadata": {
        "colab": {
          "base_uri": "https://localhost:8080/"
        },
        "id": "u2RqW4QoTp6S",
        "outputId": "0f2d1656-921e-4e08-cfd0-a7262e27a5f7"
      },
      "execution_count": 44,
      "outputs": [
        {
          "output_type": "stream",
          "name": "stdout",
          "text": [
            "<class 'pandas.core.frame.DataFrame'>\n",
            "Int64Index: 5781 entries, 3663 to 5736\n",
            "Data columns (total 10 columns):\n",
            " #   Column             Non-Null Count  Dtype  \n",
            "---  ------             --------------  -----  \n",
            " 0   median_income      5766 non-null   float64\n",
            " 1   percent_college    5770 non-null   float64\n",
            " 2   percent_lunch      5764 non-null   float64\n",
            " 3   percent_married    5763 non-null   float64\n",
            " 4   rate_unemployment  5769 non-null   float64\n",
            " 5   school_level       5781 non-null   object \n",
            " 6   school_type        5781 non-null   object \n",
            " 7   state              5781 non-null   object \n",
            " 8   year               5781 non-null   object \n",
            " 9   zip_code           5781 non-null   object \n",
            "dtypes: float64(5), object(5)\n",
            "memory usage: 496.8+ KB\n"
          ]
        }
      ]
    },
    {
      "cell_type": "code",
      "source": [
        "X_train.loc[:, 'median_income':'rate_unemployment'] = imputer.transform(X_train.loc[:,'median_income':'rate_unemployment'])"
      ],
      "metadata": {
        "id": "hKXS2keEQ-zr"
      },
      "execution_count": 45,
      "outputs": []
    },
    {
      "cell_type": "markdown",
      "source": [
        "We will now ensure that there are no more missing values in the training set."
      ],
      "metadata": {
        "id": "EUF-obP3HIna"
      }
    },
    {
      "cell_type": "code",
      "source": [
        "X_train.isna().sum()"
      ],
      "metadata": {
        "colab": {
          "base_uri": "https://localhost:8080/"
        },
        "id": "u4KDCTF1FB3m",
        "outputId": "07aea118-fcb3-4232-be01-9cfe4b5433e0"
      },
      "execution_count": 46,
      "outputs": [
        {
          "output_type": "execute_result",
          "data": {
            "text/plain": [
              "median_income        0\n",
              "percent_college      0\n",
              "percent_lunch        0\n",
              "percent_married      0\n",
              "rate_unemployment    0\n",
              "school_level         0\n",
              "school_type          0\n",
              "state                0\n",
              "year                 0\n",
              "zip_code             0\n",
              "dtype: int64"
            ]
          },
          "metadata": {},
          "execution_count": 46
        }
      ]
    },
    {
      "cell_type": "markdown",
      "source": [
        "We will now check for the missng values in the test data."
      ],
      "metadata": {
        "id": "KG7hqngQHqRr"
      }
    },
    {
      "cell_type": "code",
      "source": [
        "X_test.isna().sum()"
      ],
      "metadata": {
        "colab": {
          "base_uri": "https://localhost:8080/"
        },
        "id": "_5TvTYNUFUMD",
        "outputId": "316eac26-811d-4e69-c599-2034460445ca"
      },
      "execution_count": 47,
      "outputs": [
        {
          "output_type": "execute_result",
          "data": {
            "text/plain": [
              "median_income        1\n",
              "percent_college      0\n",
              "percent_lunch        3\n",
              "percent_married      2\n",
              "rate_unemployment    0\n",
              "school_level         0\n",
              "school_type          0\n",
              "state                0\n",
              "year                 0\n",
              "zip_code             0\n",
              "dtype: int64"
            ]
          },
          "metadata": {},
          "execution_count": 47
        }
      ]
    },
    {
      "cell_type": "markdown",
      "source": [
        "For all of the missing values, we will use the imputer to replace the missing values."
      ],
      "metadata": {
        "id": "fyLWTirQHtTv"
      }
    },
    {
      "cell_type": "code",
      "source": [
        "X_test.loc[:,'median_income':'rate_unemployment'] = imputer.transform(X_test.loc[:,'median_income':'rate_unemployment'])"
      ],
      "metadata": {
        "id": "1T9RvkjbFgNR"
      },
      "execution_count": 48,
      "outputs": []
    },
    {
      "cell_type": "markdown",
      "source": [
        "We will now do a quality check, to make sure there are no more missing values."
      ],
      "metadata": {
        "id": "Fl1tE7XDIRA0"
      }
    },
    {
      "cell_type": "code",
      "source": [
        "X_test.isna().sum()"
      ],
      "metadata": {
        "colab": {
          "base_uri": "https://localhost:8080/"
        },
        "id": "d_tZf1bTFoTr",
        "outputId": "a0e26bd0-a921-4c94-d394-4045ebef1b5f"
      },
      "execution_count": 49,
      "outputs": [
        {
          "output_type": "execute_result",
          "data": {
            "text/plain": [
              "median_income        0\n",
              "percent_college      0\n",
              "percent_lunch        0\n",
              "percent_married      0\n",
              "rate_unemployment    0\n",
              "school_level         0\n",
              "school_type          0\n",
              "state                0\n",
              "year                 0\n",
              "zip_code             0\n",
              "dtype: int64"
            ]
          },
          "metadata": {},
          "execution_count": 49
        }
      ]
    },
    {
      "cell_type": "markdown",
      "source": [
        "We will join the train x and y data sets into one dataset. "
      ],
      "metadata": {
        "id": "UjIOBgqWAW0_"
      }
    },
    {
      "cell_type": "code",
      "source": [
        "df_train = X_train.join(y_train)"
      ],
      "metadata": {
        "id": "9Bi2DNOOJMPJ"
      },
      "execution_count": 50,
      "outputs": []
    },
    {
      "cell_type": "code",
      "source": [
        "df_train.head()"
      ],
      "metadata": {
        "id": "BQekL6ErcFY6",
        "outputId": "4dc1a7f7-0609-4503-936a-437fd8781382",
        "colab": {
          "base_uri": "https://localhost:8080/",
          "height": 357
        }
      },
      "execution_count": 51,
      "outputs": [
        {
          "output_type": "execute_result",
          "data": {
            "text/plain": [
              "      median_income  percent_college  percent_lunch  percent_married  \\\n",
              "3663        41793.0         0.602419       0.542056         0.574034   \n",
              "1689        38173.0         0.469225       0.339655         0.711429   \n",
              "5852        39635.0         0.567361       0.270175         0.694514   \n",
              "3288        40978.0         0.467614       0.315556         0.766901   \n",
              "378         36875.0         0.604470       0.548410         0.803435   \n",
              "\n",
              "      rate_unemployment school_level     school_type state       year  \\\n",
              "3663           0.111111         High  Regular School    NJ  2016-2017   \n",
              "1689           0.135246         High  Regular School    IN  2016-2017   \n",
              "5852           0.083419         High  Regular School    PA  2016-2017   \n",
              "3288           0.062531         High  Regular School    MO  2016-2017   \n",
              "378            0.071429         High  Regular School    FL  2016-2017   \n",
              "\n",
              "     zip_code  average_act  \n",
              "3663     7306    16.538462  \n",
              "1689    47567    20.367521  \n",
              "5852    15853    20.347985  \n",
              "3288    64644    21.600000  \n",
              "378     34669    21.056166  "
            ],
            "text/html": [
              "\n",
              "  <div id=\"df-bf88008b-73c8-4371-a3f8-787c435e9698\">\n",
              "    <div class=\"colab-df-container\">\n",
              "      <div>\n",
              "<style scoped>\n",
              "    .dataframe tbody tr th:only-of-type {\n",
              "        vertical-align: middle;\n",
              "    }\n",
              "\n",
              "    .dataframe tbody tr th {\n",
              "        vertical-align: top;\n",
              "    }\n",
              "\n",
              "    .dataframe thead th {\n",
              "        text-align: right;\n",
              "    }\n",
              "</style>\n",
              "<table border=\"1\" class=\"dataframe\">\n",
              "  <thead>\n",
              "    <tr style=\"text-align: right;\">\n",
              "      <th></th>\n",
              "      <th>median_income</th>\n",
              "      <th>percent_college</th>\n",
              "      <th>percent_lunch</th>\n",
              "      <th>percent_married</th>\n",
              "      <th>rate_unemployment</th>\n",
              "      <th>school_level</th>\n",
              "      <th>school_type</th>\n",
              "      <th>state</th>\n",
              "      <th>year</th>\n",
              "      <th>zip_code</th>\n",
              "      <th>average_act</th>\n",
              "    </tr>\n",
              "  </thead>\n",
              "  <tbody>\n",
              "    <tr>\n",
              "      <th>3663</th>\n",
              "      <td>41793.0</td>\n",
              "      <td>0.602419</td>\n",
              "      <td>0.542056</td>\n",
              "      <td>0.574034</td>\n",
              "      <td>0.111111</td>\n",
              "      <td>High</td>\n",
              "      <td>Regular School</td>\n",
              "      <td>NJ</td>\n",
              "      <td>2016-2017</td>\n",
              "      <td>7306</td>\n",
              "      <td>16.538462</td>\n",
              "    </tr>\n",
              "    <tr>\n",
              "      <th>1689</th>\n",
              "      <td>38173.0</td>\n",
              "      <td>0.469225</td>\n",
              "      <td>0.339655</td>\n",
              "      <td>0.711429</td>\n",
              "      <td>0.135246</td>\n",
              "      <td>High</td>\n",
              "      <td>Regular School</td>\n",
              "      <td>IN</td>\n",
              "      <td>2016-2017</td>\n",
              "      <td>47567</td>\n",
              "      <td>20.367521</td>\n",
              "    </tr>\n",
              "    <tr>\n",
              "      <th>5852</th>\n",
              "      <td>39635.0</td>\n",
              "      <td>0.567361</td>\n",
              "      <td>0.270175</td>\n",
              "      <td>0.694514</td>\n",
              "      <td>0.083419</td>\n",
              "      <td>High</td>\n",
              "      <td>Regular School</td>\n",
              "      <td>PA</td>\n",
              "      <td>2016-2017</td>\n",
              "      <td>15853</td>\n",
              "      <td>20.347985</td>\n",
              "    </tr>\n",
              "    <tr>\n",
              "      <th>3288</th>\n",
              "      <td>40978.0</td>\n",
              "      <td>0.467614</td>\n",
              "      <td>0.315556</td>\n",
              "      <td>0.766901</td>\n",
              "      <td>0.062531</td>\n",
              "      <td>High</td>\n",
              "      <td>Regular School</td>\n",
              "      <td>MO</td>\n",
              "      <td>2016-2017</td>\n",
              "      <td>64644</td>\n",
              "      <td>21.600000</td>\n",
              "    </tr>\n",
              "    <tr>\n",
              "      <th>378</th>\n",
              "      <td>36875.0</td>\n",
              "      <td>0.604470</td>\n",
              "      <td>0.548410</td>\n",
              "      <td>0.803435</td>\n",
              "      <td>0.071429</td>\n",
              "      <td>High</td>\n",
              "      <td>Regular School</td>\n",
              "      <td>FL</td>\n",
              "      <td>2016-2017</td>\n",
              "      <td>34669</td>\n",
              "      <td>21.056166</td>\n",
              "    </tr>\n",
              "  </tbody>\n",
              "</table>\n",
              "</div>\n",
              "      <button class=\"colab-df-convert\" onclick=\"convertToInteractive('df-bf88008b-73c8-4371-a3f8-787c435e9698')\"\n",
              "              title=\"Convert this dataframe to an interactive table.\"\n",
              "              style=\"display:none;\">\n",
              "        \n",
              "  <svg xmlns=\"http://www.w3.org/2000/svg\" height=\"24px\"viewBox=\"0 0 24 24\"\n",
              "       width=\"24px\">\n",
              "    <path d=\"M0 0h24v24H0V0z\" fill=\"none\"/>\n",
              "    <path d=\"M18.56 5.44l.94 2.06.94-2.06 2.06-.94-2.06-.94-.94-2.06-.94 2.06-2.06.94zm-11 1L8.5 8.5l.94-2.06 2.06-.94-2.06-.94L8.5 2.5l-.94 2.06-2.06.94zm10 10l.94 2.06.94-2.06 2.06-.94-2.06-.94-.94-2.06-.94 2.06-2.06.94z\"/><path d=\"M17.41 7.96l-1.37-1.37c-.4-.4-.92-.59-1.43-.59-.52 0-1.04.2-1.43.59L10.3 9.45l-7.72 7.72c-.78.78-.78 2.05 0 2.83L4 21.41c.39.39.9.59 1.41.59.51 0 1.02-.2 1.41-.59l7.78-7.78 2.81-2.81c.8-.78.8-2.07 0-2.86zM5.41 20L4 18.59l7.72-7.72 1.47 1.35L5.41 20z\"/>\n",
              "  </svg>\n",
              "      </button>\n",
              "      \n",
              "  <style>\n",
              "    .colab-df-container {\n",
              "      display:flex;\n",
              "      flex-wrap:wrap;\n",
              "      gap: 12px;\n",
              "    }\n",
              "\n",
              "    .colab-df-convert {\n",
              "      background-color: #E8F0FE;\n",
              "      border: none;\n",
              "      border-radius: 50%;\n",
              "      cursor: pointer;\n",
              "      display: none;\n",
              "      fill: #1967D2;\n",
              "      height: 32px;\n",
              "      padding: 0 0 0 0;\n",
              "      width: 32px;\n",
              "    }\n",
              "\n",
              "    .colab-df-convert:hover {\n",
              "      background-color: #E2EBFA;\n",
              "      box-shadow: 0px 1px 2px rgba(60, 64, 67, 0.3), 0px 1px 3px 1px rgba(60, 64, 67, 0.15);\n",
              "      fill: #174EA6;\n",
              "    }\n",
              "\n",
              "    [theme=dark] .colab-df-convert {\n",
              "      background-color: #3B4455;\n",
              "      fill: #D2E3FC;\n",
              "    }\n",
              "\n",
              "    [theme=dark] .colab-df-convert:hover {\n",
              "      background-color: #434B5C;\n",
              "      box-shadow: 0px 1px 3px 1px rgba(0, 0, 0, 0.15);\n",
              "      filter: drop-shadow(0px 1px 2px rgba(0, 0, 0, 0.3));\n",
              "      fill: #FFFFFF;\n",
              "    }\n",
              "  </style>\n",
              "\n",
              "      <script>\n",
              "        const buttonEl =\n",
              "          document.querySelector('#df-bf88008b-73c8-4371-a3f8-787c435e9698 button.colab-df-convert');\n",
              "        buttonEl.style.display =\n",
              "          google.colab.kernel.accessAllowed ? 'block' : 'none';\n",
              "\n",
              "        async function convertToInteractive(key) {\n",
              "          const element = document.querySelector('#df-bf88008b-73c8-4371-a3f8-787c435e9698');\n",
              "          const dataTable =\n",
              "            await google.colab.kernel.invokeFunction('convertToInteractive',\n",
              "                                                     [key], {});\n",
              "          if (!dataTable) return;\n",
              "\n",
              "          const docLinkHtml = 'Like what you see? Visit the ' +\n",
              "            '<a target=\"_blank\" href=https://colab.research.google.com/notebooks/data_table.ipynb>data table notebook</a>'\n",
              "            + ' to learn more about interactive tables.';\n",
              "          element.innerHTML = '';\n",
              "          dataTable['output_type'] = 'display_data';\n",
              "          await google.colab.output.renderOutput(dataTable, element);\n",
              "          const docLink = document.createElement('div');\n",
              "          docLink.innerHTML = docLinkHtml;\n",
              "          element.appendChild(docLink);\n",
              "        }\n",
              "      </script>\n",
              "    </div>\n",
              "  </div>\n",
              "  "
            ]
          },
          "metadata": {},
          "execution_count": 51
        }
      ]
    },
    {
      "cell_type": "markdown",
      "source": [
        "The train data is now combined into one dataset.\n",
        "\n",
        "We will do the same join for the test data."
      ],
      "metadata": {
        "id": "tJ9pI_raAdGl"
      }
    },
    {
      "cell_type": "code",
      "source": [
        "df_test = X_test.join(y_test)"
      ],
      "metadata": {
        "id": "9A2fKMAeJM5W"
      },
      "execution_count": 52,
      "outputs": []
    },
    {
      "cell_type": "code",
      "source": [
        "df_test"
      ],
      "metadata": {
        "colab": {
          "base_uri": "https://localhost:8080/",
          "height": 661
        },
        "id": "z5YzD00-2vAi",
        "outputId": "5f97d6a6-de74-47b0-dd1c-374151384014"
      },
      "execution_count": 53,
      "outputs": [
        {
          "output_type": "execute_result",
          "data": {
            "text/plain": [
              "      median_income  percent_college  percent_lunch  percent_married  \\\n",
              "2804        52833.0         0.564717       0.226481         0.823245   \n",
              "4162        62411.0         0.537197       0.677895         0.313253   \n",
              "5411        63938.0         0.781818       0.561431         0.523810   \n",
              "4171        25625.0         0.361014       0.625239         0.317358   \n",
              "1950        46350.0         0.602669       0.358377         0.641444   \n",
              "...             ...              ...            ...              ...   \n",
              "4882        33879.0         0.518481       0.784543         0.230473   \n",
              "7441        46136.0         0.673419       0.269076         0.614195   \n",
              "1631        77351.0         0.740656       0.204893         0.786031   \n",
              "7715        37155.0         0.527434       0.434183         0.515067   \n",
              "7568        31818.0         0.394918       0.925000         0.158186   \n",
              "\n",
              "      rate_unemployment school_level     school_type state       year  \\\n",
              "2804           0.100518         High  Regular School    MI  2016-2017   \n",
              "4162           0.095582         High  Regular School    NY  2016-2017   \n",
              "5411           0.096433         High  Regular School    PA  2016-2017   \n",
              "4171           0.168471         High  Regular School    NY  2016-2017   \n",
              "1950           0.089737         High  Regular School    KY  2016-2017   \n",
              "...                 ...          ...             ...   ...        ...   \n",
              "4882           0.158721         High  Regular School    OH  2016-2017   \n",
              "7441           0.058028         High  Regular School    WA  2016-2017   \n",
              "1631           0.036417         High  Regular School    IN  2016-2017   \n",
              "7715           0.177820         High  Regular School    WI  2016-2017   \n",
              "7568           0.184444         High  Regular School    WI  2016-2017   \n",
              "\n",
              "     zip_code  average_act  \n",
              "2804    49112    21.000000  \n",
              "4162    11413    16.245421  \n",
              "5411    15222    18.345543  \n",
              "4171    11103    18.663004  \n",
              "1950    42025    20.000000  \n",
              "...       ...          ...  \n",
              "4882    44870    20.000000  \n",
              "7441    98506    23.156288  \n",
              "1631    46069    20.885226  \n",
              "7715    53144    20.500000  \n",
              "7568    53216    16.800000  \n",
              "\n",
              "[1446 rows x 11 columns]"
            ],
            "text/html": [
              "\n",
              "  <div id=\"df-60ed9558-ea88-44b9-8a19-795753e32498\">\n",
              "    <div class=\"colab-df-container\">\n",
              "      <div>\n",
              "<style scoped>\n",
              "    .dataframe tbody tr th:only-of-type {\n",
              "        vertical-align: middle;\n",
              "    }\n",
              "\n",
              "    .dataframe tbody tr th {\n",
              "        vertical-align: top;\n",
              "    }\n",
              "\n",
              "    .dataframe thead th {\n",
              "        text-align: right;\n",
              "    }\n",
              "</style>\n",
              "<table border=\"1\" class=\"dataframe\">\n",
              "  <thead>\n",
              "    <tr style=\"text-align: right;\">\n",
              "      <th></th>\n",
              "      <th>median_income</th>\n",
              "      <th>percent_college</th>\n",
              "      <th>percent_lunch</th>\n",
              "      <th>percent_married</th>\n",
              "      <th>rate_unemployment</th>\n",
              "      <th>school_level</th>\n",
              "      <th>school_type</th>\n",
              "      <th>state</th>\n",
              "      <th>year</th>\n",
              "      <th>zip_code</th>\n",
              "      <th>average_act</th>\n",
              "    </tr>\n",
              "  </thead>\n",
              "  <tbody>\n",
              "    <tr>\n",
              "      <th>2804</th>\n",
              "      <td>52833.0</td>\n",
              "      <td>0.564717</td>\n",
              "      <td>0.226481</td>\n",
              "      <td>0.823245</td>\n",
              "      <td>0.100518</td>\n",
              "      <td>High</td>\n",
              "      <td>Regular School</td>\n",
              "      <td>MI</td>\n",
              "      <td>2016-2017</td>\n",
              "      <td>49112</td>\n",
              "      <td>21.000000</td>\n",
              "    </tr>\n",
              "    <tr>\n",
              "      <th>4162</th>\n",
              "      <td>62411.0</td>\n",
              "      <td>0.537197</td>\n",
              "      <td>0.677895</td>\n",
              "      <td>0.313253</td>\n",
              "      <td>0.095582</td>\n",
              "      <td>High</td>\n",
              "      <td>Regular School</td>\n",
              "      <td>NY</td>\n",
              "      <td>2016-2017</td>\n",
              "      <td>11413</td>\n",
              "      <td>16.245421</td>\n",
              "    </tr>\n",
              "    <tr>\n",
              "      <th>5411</th>\n",
              "      <td>63938.0</td>\n",
              "      <td>0.781818</td>\n",
              "      <td>0.561431</td>\n",
              "      <td>0.523810</td>\n",
              "      <td>0.096433</td>\n",
              "      <td>High</td>\n",
              "      <td>Regular School</td>\n",
              "      <td>PA</td>\n",
              "      <td>2016-2017</td>\n",
              "      <td>15222</td>\n",
              "      <td>18.345543</td>\n",
              "    </tr>\n",
              "    <tr>\n",
              "      <th>4171</th>\n",
              "      <td>25625.0</td>\n",
              "      <td>0.361014</td>\n",
              "      <td>0.625239</td>\n",
              "      <td>0.317358</td>\n",
              "      <td>0.168471</td>\n",
              "      <td>High</td>\n",
              "      <td>Regular School</td>\n",
              "      <td>NY</td>\n",
              "      <td>2016-2017</td>\n",
              "      <td>11103</td>\n",
              "      <td>18.663004</td>\n",
              "    </tr>\n",
              "    <tr>\n",
              "      <th>1950</th>\n",
              "      <td>46350.0</td>\n",
              "      <td>0.602669</td>\n",
              "      <td>0.358377</td>\n",
              "      <td>0.641444</td>\n",
              "      <td>0.089737</td>\n",
              "      <td>High</td>\n",
              "      <td>Regular School</td>\n",
              "      <td>KY</td>\n",
              "      <td>2016-2017</td>\n",
              "      <td>42025</td>\n",
              "      <td>20.000000</td>\n",
              "    </tr>\n",
              "    <tr>\n",
              "      <th>...</th>\n",
              "      <td>...</td>\n",
              "      <td>...</td>\n",
              "      <td>...</td>\n",
              "      <td>...</td>\n",
              "      <td>...</td>\n",
              "      <td>...</td>\n",
              "      <td>...</td>\n",
              "      <td>...</td>\n",
              "      <td>...</td>\n",
              "      <td>...</td>\n",
              "      <td>...</td>\n",
              "    </tr>\n",
              "    <tr>\n",
              "      <th>4882</th>\n",
              "      <td>33879.0</td>\n",
              "      <td>0.518481</td>\n",
              "      <td>0.784543</td>\n",
              "      <td>0.230473</td>\n",
              "      <td>0.158721</td>\n",
              "      <td>High</td>\n",
              "      <td>Regular School</td>\n",
              "      <td>OH</td>\n",
              "      <td>2016-2017</td>\n",
              "      <td>44870</td>\n",
              "      <td>20.000000</td>\n",
              "    </tr>\n",
              "    <tr>\n",
              "      <th>7441</th>\n",
              "      <td>46136.0</td>\n",
              "      <td>0.673419</td>\n",
              "      <td>0.269076</td>\n",
              "      <td>0.614195</td>\n",
              "      <td>0.058028</td>\n",
              "      <td>High</td>\n",
              "      <td>Regular School</td>\n",
              "      <td>WA</td>\n",
              "      <td>2016-2017</td>\n",
              "      <td>98506</td>\n",
              "      <td>23.156288</td>\n",
              "    </tr>\n",
              "    <tr>\n",
              "      <th>1631</th>\n",
              "      <td>77351.0</td>\n",
              "      <td>0.740656</td>\n",
              "      <td>0.204893</td>\n",
              "      <td>0.786031</td>\n",
              "      <td>0.036417</td>\n",
              "      <td>High</td>\n",
              "      <td>Regular School</td>\n",
              "      <td>IN</td>\n",
              "      <td>2016-2017</td>\n",
              "      <td>46069</td>\n",
              "      <td>20.885226</td>\n",
              "    </tr>\n",
              "    <tr>\n",
              "      <th>7715</th>\n",
              "      <td>37155.0</td>\n",
              "      <td>0.527434</td>\n",
              "      <td>0.434183</td>\n",
              "      <td>0.515067</td>\n",
              "      <td>0.177820</td>\n",
              "      <td>High</td>\n",
              "      <td>Regular School</td>\n",
              "      <td>WI</td>\n",
              "      <td>2016-2017</td>\n",
              "      <td>53144</td>\n",
              "      <td>20.500000</td>\n",
              "    </tr>\n",
              "    <tr>\n",
              "      <th>7568</th>\n",
              "      <td>31818.0</td>\n",
              "      <td>0.394918</td>\n",
              "      <td>0.925000</td>\n",
              "      <td>0.158186</td>\n",
              "      <td>0.184444</td>\n",
              "      <td>High</td>\n",
              "      <td>Regular School</td>\n",
              "      <td>WI</td>\n",
              "      <td>2016-2017</td>\n",
              "      <td>53216</td>\n",
              "      <td>16.800000</td>\n",
              "    </tr>\n",
              "  </tbody>\n",
              "</table>\n",
              "<p>1446 rows × 11 columns</p>\n",
              "</div>\n",
              "      <button class=\"colab-df-convert\" onclick=\"convertToInteractive('df-60ed9558-ea88-44b9-8a19-795753e32498')\"\n",
              "              title=\"Convert this dataframe to an interactive table.\"\n",
              "              style=\"display:none;\">\n",
              "        \n",
              "  <svg xmlns=\"http://www.w3.org/2000/svg\" height=\"24px\"viewBox=\"0 0 24 24\"\n",
              "       width=\"24px\">\n",
              "    <path d=\"M0 0h24v24H0V0z\" fill=\"none\"/>\n",
              "    <path d=\"M18.56 5.44l.94 2.06.94-2.06 2.06-.94-2.06-.94-.94-2.06-.94 2.06-2.06.94zm-11 1L8.5 8.5l.94-2.06 2.06-.94-2.06-.94L8.5 2.5l-.94 2.06-2.06.94zm10 10l.94 2.06.94-2.06 2.06-.94-2.06-.94-.94-2.06-.94 2.06-2.06.94z\"/><path d=\"M17.41 7.96l-1.37-1.37c-.4-.4-.92-.59-1.43-.59-.52 0-1.04.2-1.43.59L10.3 9.45l-7.72 7.72c-.78.78-.78 2.05 0 2.83L4 21.41c.39.39.9.59 1.41.59.51 0 1.02-.2 1.41-.59l7.78-7.78 2.81-2.81c.8-.78.8-2.07 0-2.86zM5.41 20L4 18.59l7.72-7.72 1.47 1.35L5.41 20z\"/>\n",
              "  </svg>\n",
              "      </button>\n",
              "      \n",
              "  <style>\n",
              "    .colab-df-container {\n",
              "      display:flex;\n",
              "      flex-wrap:wrap;\n",
              "      gap: 12px;\n",
              "    }\n",
              "\n",
              "    .colab-df-convert {\n",
              "      background-color: #E8F0FE;\n",
              "      border: none;\n",
              "      border-radius: 50%;\n",
              "      cursor: pointer;\n",
              "      display: none;\n",
              "      fill: #1967D2;\n",
              "      height: 32px;\n",
              "      padding: 0 0 0 0;\n",
              "      width: 32px;\n",
              "    }\n",
              "\n",
              "    .colab-df-convert:hover {\n",
              "      background-color: #E2EBFA;\n",
              "      box-shadow: 0px 1px 2px rgba(60, 64, 67, 0.3), 0px 1px 3px 1px rgba(60, 64, 67, 0.15);\n",
              "      fill: #174EA6;\n",
              "    }\n",
              "\n",
              "    [theme=dark] .colab-df-convert {\n",
              "      background-color: #3B4455;\n",
              "      fill: #D2E3FC;\n",
              "    }\n",
              "\n",
              "    [theme=dark] .colab-df-convert:hover {\n",
              "      background-color: #434B5C;\n",
              "      box-shadow: 0px 1px 3px 1px rgba(0, 0, 0, 0.15);\n",
              "      filter: drop-shadow(0px 1px 2px rgba(0, 0, 0, 0.3));\n",
              "      fill: #FFFFFF;\n",
              "    }\n",
              "  </style>\n",
              "\n",
              "      <script>\n",
              "        const buttonEl =\n",
              "          document.querySelector('#df-60ed9558-ea88-44b9-8a19-795753e32498 button.colab-df-convert');\n",
              "        buttonEl.style.display =\n",
              "          google.colab.kernel.accessAllowed ? 'block' : 'none';\n",
              "\n",
              "        async function convertToInteractive(key) {\n",
              "          const element = document.querySelector('#df-60ed9558-ea88-44b9-8a19-795753e32498');\n",
              "          const dataTable =\n",
              "            await google.colab.kernel.invokeFunction('convertToInteractive',\n",
              "                                                     [key], {});\n",
              "          if (!dataTable) return;\n",
              "\n",
              "          const docLinkHtml = 'Like what you see? Visit the ' +\n",
              "            '<a target=\"_blank\" href=https://colab.research.google.com/notebooks/data_table.ipynb>data table notebook</a>'\n",
              "            + ' to learn more about interactive tables.';\n",
              "          element.innerHTML = '';\n",
              "          dataTable['output_type'] = 'display_data';\n",
              "          await google.colab.output.renderOutput(dataTable, element);\n",
              "          const docLink = document.createElement('div');\n",
              "          docLink.innerHTML = docLinkHtml;\n",
              "          element.appendChild(docLink);\n",
              "        }\n",
              "      </script>\n",
              "    </div>\n",
              "  </div>\n",
              "  "
            ]
          },
          "metadata": {},
          "execution_count": 53
        }
      ]
    },
    {
      "cell_type": "markdown",
      "source": [
        "The df_test is now joined together with the x and y variables."
      ],
      "metadata": {
        "id": "XBDpCrCNA9fa"
      }
    },
    {
      "cell_type": "markdown",
      "source": [
        "## Create relevant derived variables as new columns"
      ],
      "metadata": {
        "id": "dztpyFnl0MHm"
      }
    },
    {
      "cell_type": "markdown",
      "source": [
        "There are no derived variables that are needed as new columns to peform further anaylsis."
      ],
      "metadata": {
        "id": "2cVufFzxI-5K"
      }
    },
    {
      "cell_type": "markdown",
      "source": [
        "## Export the clean .csv files"
      ],
      "metadata": {
        "id": "6_9K-8440Tcu"
      }
    },
    {
      "cell_type": "markdown",
      "source": [
        "We will export a clean CVS file."
      ],
      "metadata": {
        "id": "l3ZgZ8Z50V8m"
      }
    },
    {
      "cell_type": "code",
      "source": [
        "from google.colab import files\n",
        "\n",
        "df.to_csv('clean_education_inequality_data_prep.csv', encoding = 'utf-8-sig', index=False) \n",
        "\n",
        "files.download('clean_education_inequality_data_prep.csv')"
      ],
      "metadata": {
        "colab": {
          "base_uri": "https://localhost:8080/",
          "height": 17
        },
        "id": "csCxT4up4f8Q",
        "outputId": "fbdf806d-2e52-4178-a974-975d4d2a4055"
      },
      "execution_count": 55,
      "outputs": [
        {
          "output_type": "display_data",
          "data": {
            "text/plain": [
              "<IPython.core.display.Javascript object>"
            ],
            "application/javascript": [
              "\n",
              "    async function download(id, filename, size) {\n",
              "      if (!google.colab.kernel.accessAllowed) {\n",
              "        return;\n",
              "      }\n",
              "      const div = document.createElement('div');\n",
              "      const label = document.createElement('label');\n",
              "      label.textContent = `Downloading \"${filename}\": `;\n",
              "      div.appendChild(label);\n",
              "      const progress = document.createElement('progress');\n",
              "      progress.max = size;\n",
              "      div.appendChild(progress);\n",
              "      document.body.appendChild(div);\n",
              "\n",
              "      const buffers = [];\n",
              "      let downloaded = 0;\n",
              "\n",
              "      const channel = await google.colab.kernel.comms.open(id);\n",
              "      // Send a message to notify the kernel that we're ready.\n",
              "      channel.send({})\n",
              "\n",
              "      for await (const message of channel.messages) {\n",
              "        // Send a message to notify the kernel that we're ready.\n",
              "        channel.send({})\n",
              "        if (message.buffers) {\n",
              "          for (const buffer of message.buffers) {\n",
              "            buffers.push(buffer);\n",
              "            downloaded += buffer.byteLength;\n",
              "            progress.value = downloaded;\n",
              "          }\n",
              "        }\n",
              "      }\n",
              "      const blob = new Blob(buffers, {type: 'application/binary'});\n",
              "      const a = document.createElement('a');\n",
              "      a.href = window.URL.createObjectURL(blob);\n",
              "      a.download = filename;\n",
              "      div.appendChild(a);\n",
              "      a.click();\n",
              "      div.remove();\n",
              "    }\n",
              "  "
            ]
          },
          "metadata": {}
        },
        {
          "output_type": "display_data",
          "data": {
            "text/plain": [
              "<IPython.core.display.Javascript object>"
            ],
            "application/javascript": [
              "download(\"download_69153a6f-4082-402a-bee4-383d93cc21ff\", \"clean_education_inequality_data_prep.csv\", 1033894)"
            ]
          },
          "metadata": {}
        }
      ]
    }
  ]
}